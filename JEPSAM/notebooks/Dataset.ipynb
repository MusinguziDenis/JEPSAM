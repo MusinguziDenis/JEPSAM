{
 "cells": [
  {
   "cell_type": "code",
   "execution_count": 1,
   "id": "a7a0823c-190d-4ba8-874a-72d7d7c61fc2",
   "metadata": {
    "execution": {
     "iopub.execute_input": "2023-07-26T09:19:21.514991Z",
     "iopub.status.busy": "2023-07-26T09:19:21.514608Z",
     "iopub.status.idle": "2023-07-26T09:19:21.699016Z",
     "shell.execute_reply": "2023-07-26T09:19:21.696338Z",
     "shell.execute_reply.started": "2023-07-26T09:19:21.514963Z"
    }
   },
   "outputs": [
    {
     "name": "stdout",
     "output_type": "stream",
     "text": [
      "Wed Jul 26 18:44:41 2023       \n",
      "+-----------------------------------------------------------------------------+\n",
      "| NVIDIA-SMI 470.199.02   Driver Version: 470.199.02   CUDA Version: 11.4     |\n",
      "|-------------------------------+----------------------+----------------------+\n",
      "| GPU  Name        Persistence-M| Bus-Id        Disp.A | Volatile Uncorr. ECC |\n",
      "| Fan  Temp  Perf  Pwr:Usage/Cap|         Memory-Usage | GPU-Util  Compute M. |\n",
      "|                               |                      |               MIG M. |\n",
      "|===============================+======================+======================|\n",
      "|   0  NVIDIA GeForce ...  Off  | 00000000:01:00.0  On |                  N/A |\n",
      "| N/A   71C    P8     9W /  N/A |    444MiB /  6069MiB |     34%      Default |\n",
      "|                               |                      |                  N/A |\n",
      "+-------------------------------+----------------------+----------------------+\n",
      "                                                                               \n",
      "+-----------------------------------------------------------------------------+\n",
      "| Processes:                                                                  |\n",
      "|  GPU   GI   CI        PID   Type   Process name                  GPU Memory |\n",
      "|        ID   ID                                                   Usage      |\n",
      "|=============================================================================|\n",
      "|    0   N/A  N/A      1496      G   /usr/lib/xorg/Xorg                 59MiB |\n",
      "|    0   N/A  N/A      2518      G   /usr/lib/xorg/Xorg                211MiB |\n",
      "|    0   N/A  N/A      2707      G   /usr/bin/gnome-shell               42MiB |\n",
      "|    0   N/A  N/A      2969      G   /opt/freedownloadmanager/fdm       17MiB |\n",
      "|    0   N/A  N/A      4603      G   ...251608176827647055,262144       13MiB |\n",
      "|    0   N/A  N/A    228987      G   ...RendererForSitePerProcess       87MiB |\n",
      "+-----------------------------------------------------------------------------+\n"
     ]
    }
   ],
   "source": [
    "!nvidia-smi"
   ]
  },
  {
   "cell_type": "markdown",
   "id": "b5e4d24e-3836-4f60-91b7-2cf1edcaa5dc",
   "metadata": {},
   "source": [
    "# Libs"
   ]
  },
  {
   "cell_type": "code",
   "execution_count": 2,
   "id": "ff34d40e-1d1a-4b0b-9d7f-eb23c0533d1e",
   "metadata": {
    "execution": {
     "iopub.execute_input": "2023-07-26T09:35:33.925203Z",
     "iopub.status.busy": "2023-07-26T09:35:33.924411Z",
     "iopub.status.idle": "2023-07-26T09:35:34.019946Z",
     "shell.execute_reply": "2023-07-26T09:35:34.017974Z",
     "shell.execute_reply.started": "2023-07-26T09:35:33.925135Z"
    }
   },
   "outputs": [],
   "source": [
    "# reload sccripts on change\n",
    "import IPython\n",
    "%load_ext autoreload\n",
    "\n",
    "%autoreload 2"
   ]
  },
  {
   "cell_type": "code",
   "execution_count": 3,
   "id": "96e5a4be-524f-4aba-af41-52fe66f96582",
   "metadata": {
    "execution": {
     "iopub.execute_input": "2023-07-26T10:07:47.954419Z",
     "iopub.status.busy": "2023-07-26T10:07:47.953196Z",
     "iopub.status.idle": "2023-07-26T10:07:48.015798Z",
     "shell.execute_reply": "2023-07-26T10:07:48.014135Z",
     "shell.execute_reply.started": "2023-07-26T10:07:47.954342Z"
    },
    "tags": []
   },
   "outputs": [],
   "source": [
    "import logging\n",
    "logging.basicConfig(level=\"INFO\")\n",
    "import os \n",
    "import os.path as osp\n",
    "\n",
    "import pandas as pd\n",
    "\n",
    "import sys\n",
    "\n",
    "import torch\n",
    "\n",
    "from torch.utils.data import Dataset, DataLoader"
   ]
  },
  {
   "cell_type": "code",
   "execution_count": 4,
   "id": "36b0e376-334c-434f-b2e1-c0aba960f20f",
   "metadata": {
    "execution": {
     "iopub.execute_input": "2023-07-26T09:33:48.424803Z",
     "iopub.status.busy": "2023-07-26T09:33:48.424070Z",
     "iopub.status.idle": "2023-07-26T09:33:48.434856Z",
     "shell.execute_reply": "2023-07-26T09:33:48.431599Z",
     "shell.execute_reply.started": "2023-07-26T09:33:48.424737Z"
    }
   },
   "outputs": [],
   "source": [
    "# import scripts\n",
    "sys.path.append(\"../src/\")"
   ]
  },
  {
   "cell_type": "code",
   "execution_count": 5,
   "id": "55c38b2c-3cd7-40d3-840f-ee069e7a9c6c",
   "metadata": {
    "execution": {
     "iopub.execute_input": "2023-07-26T10:31:06.351374Z",
     "iopub.status.busy": "2023-07-26T10:31:06.350551Z",
     "iopub.status.idle": "2023-07-26T10:31:06.380844Z",
     "shell.execute_reply": "2023-07-26T10:31:06.380132Z",
     "shell.execute_reply.started": "2023-07-26T10:31:06.351306Z"
    },
    "tags": []
   },
   "outputs": [],
   "source": [
    "from config import Config as cfg\n",
    "from jepsam_tokenizer import SimpleTokenizer\n",
    "import vocabulary as vocab"
   ]
  },
  {
   "cell_type": "code",
   "execution_count": null,
   "id": "94699e32-0013-469b-a6d8-8dd5c2592e09",
   "metadata": {
    "execution": {
     "iopub.execute_input": "2023-07-26T10:30:01.186125Z",
     "iopub.status.busy": "2023-07-26T10:30:01.185771Z",
     "iopub.status.idle": "2023-07-26T10:30:01.209838Z",
     "shell.execute_reply": "2023-07-26T10:30:01.209006Z",
     "shell.execute_reply.started": "2023-07-26T10:30:01.186095Z"
    },
    "tags": []
   },
   "outputs": [
    {
     "data": {
      "text/plain": [
       "['vocab.txt', '.ipynb_checkpoints', 'vocab_C.txt', 'v1', 'v2', 'vocab_W.txt']"
      ]
     },
     "execution_count": 14,
     "metadata": {},
     "output_type": "execute_result"
    }
   ],
   "source": [
    "os.listdir(cfg.DATASET[\"PATH\"])"
   ]
  },
  {
   "cell_type": "markdown",
   "id": "c314755c-eebf-485e-a57a-15ef190e51c7",
   "metadata": {},
   "source": [
    "## Dataset class"
   ]
  },
  {
   "cell_type": "code",
   "execution_count": 11,
   "id": "22c1ebff-762c-4a6c-95aa-4877b1408185",
   "metadata": {},
   "outputs": [],
   "source": [
    "import albumentations as A\n",
    "from albumentations.pytorch import ToTensorV2\n",
    "\n",
    "import numpy as np\n",
    "from PIL import Image\n",
    "\n",
    "from torch.nn.utils.rnn import pad_sequence\n",
    "\n",
    "\n",
    "class SimpleJEPSAMDataset(Dataset):\n",
    "    def __init__(\n",
    "        self,\n",
    "        csv:str = None,\n",
    "        df: pd.DataFrame = None,\n",
    "        apply_transforms: bool = True,\n",
    "        task: str = \"train\"    \n",
    "    ):\n",
    "        super().__init__()\n",
    "\n",
    "        self.vocab = vocab\n",
    "        self.dataset_directory = osp.join(cfg.DATASET[\"PATH\"], \"v1/JEPS_data\")\n",
    "        self.tokenizer = SimpleTokenizer(vocab)\n",
    "        self.cfg = cfg\n",
    "        self.TOKENS_MAPPING, self.REVERSE_TOKENS_MAPPING  = self.vocab.load_vocab() \n",
    "        \n",
    "        if df is not None:\n",
    "            self.dataset_points = df.copy()\n",
    "        else:\n",
    "            self.dataset_points = pd.read_csv(csv)\n",
    "        \n",
    "        # image transforms\n",
    "        self.apply_transforms = apply_transforms\n",
    "        if task == \"train\":\n",
    "            tfms = [\n",
    "                getattr(A, tfms)(**params) for tfms, params in self.cfg.DATASET[\"TRAIN_TFMS\"].items()\n",
    "            ]\n",
    "        else:\n",
    "            tfms = [\n",
    "                getattr(A, tfms)(**params) for tfms, params in self.cfg.DATASET[\"TEST_TFMS\"].items()\n",
    "            ]\n",
    "\n",
    "        tfms.append(A.Normalize())\n",
    "        tfms.append(ToTensorV2())\n",
    "        self.transforms = A.Compose(tfms) if self.apply_transforms else None\n",
    "\n",
    "    def __len__(self):\n",
    "        return len(self.dataset_points)\n",
    "\n",
    "    def __getitem__(self, idx):\n",
    "        \n",
    "        data_point = self.dataset_points.iloc[idx]\n",
    "        \n",
    "        # visual inputs\n",
    "        ## in state\n",
    "        in_state = np.array(Image.open(os.path.join(\n",
    "            self.dataset_directory, str(data_point.sample_ID), str(data_point.in_state)\n",
    "        )))\n",
    "\n",
    "        goal_state = np.array(Image.open(os.path.join(\n",
    "            self.dataset_directory, str(data_point.sample_ID), str(data_point.goal_state)\n",
    "        )))\n",
    "        # apply image treansforms\n",
    "        if self.apply_transforms:\n",
    "            # apply transforms\n",
    "            in_state = self.transforms(image=in_state)[\"image\"]\n",
    "            goal_state = self.transforms(image=goal_state)[\"image\"]        \n",
    "        \n",
    "        # Language modalities\n",
    "        ## action desc\n",
    "        action_description = self.tokenizer.encode(input=data_point.action_description)\n",
    "\n",
    "        ## motor cmd\n",
    "        motor_command = self.tokenizer.encode(input=data_point.motor_cmd)\n",
    "        \n",
    "        \n",
    "        sample = {\n",
    "            \"sample_id\": data_point.sample_ID,\n",
    "            \"in_state\": in_state.float(),\n",
    "            \"goal_state\": goal_state.float(),\n",
    "            \"action_desc\": {\n",
    "                \"raw\"   : data_point.action_description,\n",
    "                \"ids\"   : action_description.long(),\n",
    "                \"length\": data_point.len_action_desc\n",
    "            },\n",
    "            \"motor_cmd\": {\n",
    "                \"raw\"   : data_point.motor_cmd,\n",
    "                \"ids\"   : motor_command.long(),\n",
    "                \"length\": data_point.len_motor_cmd\n",
    "            }\n",
    "        }\n",
    "\n",
    "        return sample\n",
    "\n",
    "    def collate_fn(self, batch):\n",
    "        \n",
    "        # imgs\n",
    "        batch_input_state = [b[\"in_state\"] for b in batch]\n",
    "        batch_input_state_stack = torch.stack(batch_input_state)\n",
    "        \n",
    "        batch_goal_state = [b[\"goal_state\"] for b in batch]\n",
    "        batch_goal_state_stack = torch.stack(batch_goal_state)\n",
    "\n",
    "        # ad\n",
    "        batch_action_desc = [b[\"action_desc\"][\"ids\"] for b in batch]\n",
    "        # print(batch_action_desc)\n",
    "        batch_action_description = pad_sequence(\n",
    "            batch_action_desc, \n",
    "            batch_first=True, \n",
    "            padding_value=self.tokenizer.TOKENS_MAPPING[\"[PAD]\"]\n",
    "        ).unsqueeze(1)\n",
    "        # print(batch_action_description)\n",
    "        \n",
    "        batch_action_desc_lens = torch.as_tensor([b[\"action_desc\"][\"length\"] for b in batch])\n",
    "        # batch_action_desc_lens_stack = torch.tensor(batch_action_desc_lens)\n",
    "        # print(batch_action_desc_lens_stack)\n",
    "        \n",
    "        #cmd\n",
    "        batch_motor_commands = [b[\"motor_cmd\"][\"ids\"] for b in batch]\n",
    "        batch_motor_commands = pad_sequence(\n",
    "            batch_motor_commands, \n",
    "            batch_first=True, \n",
    "            padding_value=self.tokenizer.TOKENS_MAPPING[\"[PAD]\"]\n",
    "        ).unsqueeze(1)\n",
    "        batch_motor_commands_lens = torch.as_tensor([b[\"motor_cmd\"][\"length\"] for b in batch])\n",
    "        \n",
    "        out = (\n",
    "            batch_input_state_stack, \n",
    "            batch_goal_state_stack, \n",
    "            batch_action_description, \n",
    "            batch_motor_commands, \n",
    "            batch_action_desc_lens, \n",
    "            batch_motor_commands_lens\n",
    "        )\n",
    "        return out"
   ]
  },
  {
   "cell_type": "code",
   "execution_count": 12,
   "id": "38adb834",
   "metadata": {},
   "outputs": [],
   "source": [
    "def get_dataloaders(\n",
    "        train_df: pd.DataFrame, \n",
    "        val_df: pd.DataFrame = None,\n",
    "        dataset_module:Dataset=SimpleJEPSAMDataset,\n",
    "        ) -> tuple:\n",
    "\n",
    "    val_pct = cfg.DATASET[\"VALIDATION_PCT\"]\n",
    "\n",
    "    if val_df is None:\n",
    "        # 80/20 train/test split\n",
    "        random_indices = np.random.rand(len(train_df)) < (1-val_pct)\n",
    "\n",
    "        # Split the DataFrame into train and test sets\n",
    "        train = train_df[random_indices]\n",
    "        val = train_df[~random_indices]\n",
    "\n",
    "    # datasets\n",
    "    train_ds        =   dataset_module(df=train)\n",
    "    val_ds          =   dataset_module(df=val)\n",
    "\n",
    "    logging.info(\n",
    "        f\"Prepared {len(train_ds)} training samples and {len(val_ds)} validation samples \")\n",
    "    # data loaders\n",
    "    train_dl = DataLoader(\n",
    "        dataset=train_ds,\n",
    "        batch_size=cfg.TRAIN[\"TRAIN_BATCH_SIZE\"],\n",
    "        shuffle=True,\n",
    "        num_workers=cfg.TRAIN[\"NUM_WORKERS\"],\n",
    "        pin_memory=True,\n",
    "        collate_fn=train_ds.collate_fn if dataset_module == SimpleJEPSAMDataset else None,\n",
    "        drop_last=True\n",
    "    )\n",
    "\n",
    "    val_dl = DataLoader(\n",
    "        dataset=val_ds,\n",
    "        batch_size=cfg.TRAIN[\"TEST_BATCH_SIZE\"],\n",
    "        shuffle=False,\n",
    "        num_workers=cfg.TRAIN[\"NUM_WORKERS\"],\n",
    "        pin_memory=True,\n",
    "        collate_fn=val_ds.collate_fn if dataset_module == SimpleJEPSAMDataset else None,\n",
    "        drop_last=True\n",
    "\n",
    "    )\n",
    "\n",
    "    return (train_dl, val_dl)"
   ]
  },
  {
   "cell_type": "code",
   "execution_count": 13,
   "id": "dfdab238-d102-4c5b-91f6-fc0d3f1b199d",
   "metadata": {},
   "outputs": [
    {
     "data": {
      "text/html": [
       "<div>\n",
       "<style scoped>\n",
       "    .dataframe tbody tr th:only-of-type {\n",
       "        vertical-align: middle;\n",
       "    }\n",
       "\n",
       "    .dataframe tbody tr th {\n",
       "        vertical-align: top;\n",
       "    }\n",
       "\n",
       "    .dataframe thead th {\n",
       "        text-align: right;\n",
       "    }\n",
       "</style>\n",
       "<table border=\"1\" class=\"dataframe\">\n",
       "  <thead>\n",
       "    <tr style=\"text-align: right;\">\n",
       "      <th></th>\n",
       "      <th>sample_ID</th>\n",
       "      <th>in_state</th>\n",
       "      <th>goal_state</th>\n",
       "      <th>validator</th>\n",
       "      <th>action_description</th>\n",
       "      <th>motor_cmd</th>\n",
       "      <th>len_action_desc</th>\n",
       "      <th>len_motor_cmd</th>\n",
       "    </tr>\n",
       "  </thead>\n",
       "  <tbody>\n",
       "    <tr>\n",
       "      <th>0</th>\n",
       "      <td>1005</td>\n",
       "      <td>0</td>\n",
       "      <td>9</td>\n",
       "      <td>amihretu</td>\n",
       "      <td>put the :BOTTLE to the left of :BOTTLE</td>\n",
       "      <td>:BOTTLE BLUE POSE-9 :BOTTLE RED POSE-2 :BOTTLE...</td>\n",
       "      <td>8</td>\n",
       "      <td>11</td>\n",
       "    </tr>\n",
       "    <tr>\n",
       "      <th>1</th>\n",
       "      <td>1011</td>\n",
       "      <td>0</td>\n",
       "      <td>9</td>\n",
       "      <td>amihretu</td>\n",
       "      <td>move the :BOTTLE left</td>\n",
       "      <td>:BOTTLE BLUE POSE-3 :BOTTLE  #'*leftward-trans...</td>\n",
       "      <td>4</td>\n",
       "      <td>8</td>\n",
       "    </tr>\n",
       "    <tr>\n",
       "      <th>2</th>\n",
       "      <td>1012</td>\n",
       "      <td>0</td>\n",
       "      <td>9</td>\n",
       "      <td>amihretu</td>\n",
       "      <td>put the :BOTTLE to the right of :MUG</td>\n",
       "      <td>:BOTTLE BLUE POSE-7 :MUG RED POSE-3 :BOTTLE  #...</td>\n",
       "      <td>8</td>\n",
       "      <td>11</td>\n",
       "    </tr>\n",
       "    <tr>\n",
       "      <th>3</th>\n",
       "      <td>1013</td>\n",
       "      <td>0</td>\n",
       "      <td>9</td>\n",
       "      <td>amihretu</td>\n",
       "      <td>shift the :CUP backwards</td>\n",
       "      <td>:CUP RED POSE-4 :CUP  #'*backward-transformati...</td>\n",
       "      <td>4</td>\n",
       "      <td>8</td>\n",
       "    </tr>\n",
       "    <tr>\n",
       "      <th>4</th>\n",
       "      <td>1015</td>\n",
       "      <td>0</td>\n",
       "      <td>9</td>\n",
       "      <td>amihretu</td>\n",
       "      <td>shift the :BOTTLE forwards</td>\n",
       "      <td>:BOTTLE GREEN POSE-3 :BOTTLE  #'*forward-trans...</td>\n",
       "      <td>4</td>\n",
       "      <td>8</td>\n",
       "    </tr>\n",
       "  </tbody>\n",
       "</table>\n",
       "</div>"
      ],
      "text/plain": [
       "   sample_ID  in_state  goal_state validator  \\\n",
       "0       1005         0           9  amihretu   \n",
       "1       1011         0           9  amihretu   \n",
       "2       1012         0           9  amihretu   \n",
       "3       1013         0           9  amihretu   \n",
       "4       1015         0           9  amihretu   \n",
       "\n",
       "                       action_description  \\\n",
       "0  put the :BOTTLE to the left of :BOTTLE   \n",
       "1                   move the :BOTTLE left   \n",
       "2    put the :BOTTLE to the right of :MUG   \n",
       "3                shift the :CUP backwards   \n",
       "4              shift the :BOTTLE forwards   \n",
       "\n",
       "                                           motor_cmd  len_action_desc  \\\n",
       "0  :BOTTLE BLUE POSE-9 :BOTTLE RED POSE-2 :BOTTLE...                8   \n",
       "1  :BOTTLE BLUE POSE-3 :BOTTLE  #'*leftward-trans...                4   \n",
       "2  :BOTTLE BLUE POSE-7 :MUG RED POSE-3 :BOTTLE  #...                8   \n",
       "3  :CUP RED POSE-4 :CUP  #'*backward-transformati...                4   \n",
       "4  :BOTTLE GREEN POSE-3 :BOTTLE  #'*forward-trans...                4   \n",
       "\n",
       "   len_motor_cmd  \n",
       "0             11  \n",
       "1              8  \n",
       "2             11  \n",
       "3              8  \n",
       "4              8  "
      ]
     },
     "execution_count": 13,
     "metadata": {},
     "output_type": "execute_result"
    }
   ],
   "source": [
    "tdf = pd.read_csv(\n",
    "    osp.join(cfg.DATASET['PATH'], \"v1/updated_train.csv\")\n",
    ")\n",
    "\n",
    "tdf.head()"
   ]
  },
  {
   "cell_type": "code",
   "execution_count": 16,
   "id": "a9fc57c0-fcb2-473b-99df-00fb3fef6278",
   "metadata": {},
   "outputs": [
    {
     "name": "stderr",
     "output_type": "stream",
     "text": [
      "INFO:root:Prepared 1442 training samples and 528 validation samples \n"
     ]
    }
   ],
   "source": [
    "train_dl, val_dl = get_dataloaders(\n",
    "    train_df=tdf\n",
    ")"
   ]
  },
  {
   "cell_type": "code",
   "execution_count": 17,
   "id": "44368450-857d-4bdc-a5d2-1c425e6271cd",
   "metadata": {},
   "outputs": [
    {
     "name": "stderr",
     "output_type": "stream",
     "text": [
      "INFO:root:\n",
      ">> train data loader\n",
      "ERROR:root:\n",
      "\t>> list indices must be integers or slices, not str...\n",
      "\t>> Looks like SimpleJEPSAMDataset is being used\n",
      "INFO:root:\n",
      ">> train data loader\n"
     ]
    },
    {
     "name": "stdout",
     "output_type": "stream",
     "text": [
      "# train batches\t\t: 90\n",
      "In\t\t\t: torch.Size([16, 3, 128, 128])\n",
      "Goal\t\t\t: torch.Size([16, 3, 128, 128])\n",
      "Action desc\t\t: torch.Size([16, 1, 10])\n",
      "Action desc (len)\t: torch.Size([16])\n",
      "CMD\t\t\t: torch.Size([16, 1, 11])\n",
      "CMD(len)\t\t: torch.Size([16])\n",
      "\n"
     ]
    }
   ],
   "source": [
    "try:\n",
    "    logging.info(\"\\n>> train data loader\")\n",
    "    for data in train_dl:\n",
    "        s_id, in_state, goal_state, ad, cmd = data['sample_id'], data[\n",
    "            'in_state'], data['goal_state'], data['action_desc'], data[\"motor_cmd\"]\n",
    "        print(\"In\\t\\t\\t:\", in_state.shape)\n",
    "        print(\"Goal\\t\\t\\t:\", goal_state.shape)\n",
    "        print(\"Action desc\\t\\t:\", ad[\"ids\"].shape)\n",
    "        print(\"Action desc (len)\\t:\", ad[\"length\"].shape)\n",
    "\n",
    "        print(\"CMD\\t\\t\\t:\", cmd[\"ids\"].shape)\n",
    "        print(\"CMD(len)\\t\\t:\", cmd[\"length\"].shape)\n",
    "        break\n",
    "\n",
    "    logging.info(\"\\n\\n>> val data loader\")\n",
    "    for data in val_dl:\n",
    "        s_id, in_state, goal_state, ad, cmd = data['sample_id'], data[\n",
    "            'in_state'], data['goal_state'], data['action_desc'], data[\"motor_cmd\"]\n",
    "        print(\"In\\t\\t:\", in_state.shape)\n",
    "        print(\"Goal\\t\\t:\", goal_state.shape)\n",
    "        print(\"Action desc\\t:\", ad[\"ids\"].shape)\n",
    "        print(\"Action desc (len)\\t:\", ad[\"length\"].shape)\n",
    "\n",
    "        print(\"CMD\\t\\t:\", cmd[\"ids\"].shape)\n",
    "        print(\"CMD(len)\\t\\t:\", cmd[\"length\"].shape)\n",
    "        break\n",
    "except Exception as e:\n",
    "    logging.error(f\"\\n\\t>> {e}\"+\"...\\n\\t>> Looks like SimpleJEPSAMDataset is being used\")\n",
    "    logging.info(\"\\n>> train data loader\")\n",
    "    print(f\"# train batches\\t\\t: {len(train_dl)}\")\n",
    "    for data in train_dl:\n",
    "        in_state, goal_state, ad, cmd, ad_lens, cmd_lens = data[0], data[1], data[2], data[3], data[4], data[5]\n",
    "        print(\"In\\t\\t\\t:\", in_state.shape)\n",
    "        print(\"Goal\\t\\t\\t:\", goal_state.shape)\n",
    "        print(\"Action desc\\t\\t:\", ad.shape)\n",
    "        print(\"Action desc (len)\\t:\", ad_lens.shape)\n",
    "        print(\"CMD\\t\\t\\t:\", cmd.shape)\n",
    "        print(\"CMD(len)\\t\\t:\", cmd_lens.shape)\n",
    "        print()\n",
    "        break"
   ]
  },
  {
   "cell_type": "code",
   "execution_count": null,
   "id": "7fc29177-fd2f-420b-b80e-a723b6533172",
   "metadata": {},
   "outputs": [],
   "source": []
  },
  {
   "cell_type": "code",
   "execution_count": null,
   "id": "7d06ab9e-c282-4d02-ad52-860d0f46f8df",
   "metadata": {},
   "outputs": [],
   "source": []
  },
  {
   "cell_type": "code",
   "execution_count": null,
   "id": "d3b462d5-58cb-4282-a2ad-4f91e1719b8a",
   "metadata": {},
   "outputs": [],
   "source": []
  },
  {
   "cell_type": "code",
   "execution_count": null,
   "id": "2de267e8-94ad-42ee-92d9-e7cd5dc1b482",
   "metadata": {},
   "outputs": [],
   "source": []
  },
  {
   "cell_type": "code",
   "execution_count": null,
   "id": "c31801e7-0392-4c55-8108-028d8cf590fc",
   "metadata": {},
   "outputs": [],
   "source": []
  },
  {
   "cell_type": "code",
   "execution_count": null,
   "id": "fc94792b-1358-4585-a967-5849ae65acc0",
   "metadata": {},
   "outputs": [],
   "source": []
  },
  {
   "cell_type": "code",
   "execution_count": null,
   "id": "4edae89f-1339-4b0e-9586-33dbe2824502",
   "metadata": {},
   "outputs": [],
   "source": []
  },
  {
   "cell_type": "code",
   "execution_count": null,
   "id": "cef6da03-6476-4797-8dc6-e76a72088daf",
   "metadata": {},
   "outputs": [],
   "source": []
  }
 ],
 "metadata": {
  "kernelspec": {
   "display_name": "Python 3 (ipykernel)",
   "language": "python",
   "name": "python3"
  },
  "language_info": {
   "codemirror_mode": {
    "name": "ipython",
    "version": 3
   },
   "file_extension": ".py",
   "mimetype": "text/x-python",
   "name": "python",
   "nbconvert_exporter": "python",
   "pygments_lexer": "ipython3",
   "version": "3.8.16"
  }
 },
 "nbformat": 4,
 "nbformat_minor": 5
}
