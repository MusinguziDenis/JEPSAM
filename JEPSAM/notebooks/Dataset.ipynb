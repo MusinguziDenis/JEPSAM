{
 "cells": [
  {
   "cell_type": "code",
   "execution_count": 1,
   "id": "a7a0823c-190d-4ba8-874a-72d7d7c61fc2",
   "metadata": {
    "execution": {
     "iopub.execute_input": "2023-07-26T09:19:21.514991Z",
     "iopub.status.busy": "2023-07-26T09:19:21.514608Z",
     "iopub.status.idle": "2023-07-26T09:19:21.699016Z",
     "shell.execute_reply": "2023-07-26T09:19:21.696338Z",
     "shell.execute_reply.started": "2023-07-26T09:19:21.514963Z"
    }
   },
   "outputs": [
    {
     "name": "stdout",
     "output_type": "stream",
     "text": [
      "Wed Jul 26 11:19:21 2023       \n",
      "+-----------------------------------------------------------------------------+\n",
      "| NVIDIA-SMI 470.199.02   Driver Version: 470.199.02   CUDA Version: 11.4     |\n",
      "|-------------------------------+----------------------+----------------------+\n",
      "| GPU  Name        Persistence-M| Bus-Id        Disp.A | Volatile Uncorr. ECC |\n",
      "| Fan  Temp  Perf  Pwr:Usage/Cap|         Memory-Usage | GPU-Util  Compute M. |\n",
      "|                               |                      |               MIG M. |\n",
      "|===============================+======================+======================|\n",
      "|   0  NVIDIA GeForce ...  Off  | 00000000:01:00.0  On |                  N/A |\n",
      "| N/A   72C    P0    25W /  N/A |    450MiB /  6069MiB |      0%      Default |\n",
      "|                               |                      |                  N/A |\n",
      "+-------------------------------+----------------------+----------------------+\n",
      "                                                                               \n",
      "+-----------------------------------------------------------------------------+\n",
      "| Processes:                                                                  |\n",
      "|  GPU   GI   CI        PID   Type   Process name                  GPU Memory |\n",
      "|        ID   ID                                                   Usage      |\n",
      "|=============================================================================|\n",
      "|    0   N/A  N/A      1496      G   /usr/lib/xorg/Xorg                 59MiB |\n",
      "|    0   N/A  N/A      2518      G   /usr/lib/xorg/Xorg                169MiB |\n",
      "|    0   N/A  N/A      2707      G   /usr/bin/gnome-shell               87MiB |\n",
      "|    0   N/A  N/A      2969      G   /opt/freedownloadmanager/fdm        1MiB |\n",
      "|    0   N/A  N/A      4603      G   ...251608176827647055,262144       95MiB |\n",
      "|    0   N/A  N/A     73886      G   ...RendererForSitePerProcess       24MiB |\n",
      "+-----------------------------------------------------------------------------+\n"
     ]
    }
   ],
   "source": [
    "!nvidia-smi"
   ]
  },
  {
   "cell_type": "markdown",
   "id": "b5e4d24e-3836-4f60-91b7-2cf1edcaa5dc",
   "metadata": {},
   "source": [
    "# Libs"
   ]
  },
  {
   "cell_type": "code",
   "execution_count": 5,
   "id": "ff34d40e-1d1a-4b0b-9d7f-eb23c0533d1e",
   "metadata": {
    "execution": {
     "iopub.execute_input": "2023-07-26T09:35:33.925203Z",
     "iopub.status.busy": "2023-07-26T09:35:33.924411Z",
     "iopub.status.idle": "2023-07-26T09:35:34.019946Z",
     "shell.execute_reply": "2023-07-26T09:35:34.017974Z",
     "shell.execute_reply.started": "2023-07-26T09:35:33.925135Z"
    }
   },
   "outputs": [],
   "source": [
    "# reload sccripts on change\n",
    "import IPython\n",
    "%load_ext autoreload\n",
    "\n",
    "%autoreload 2"
   ]
  },
  {
   "cell_type": "code",
   "execution_count": 2,
   "id": "96e5a4be-524f-4aba-af41-52fe66f96582",
   "metadata": {
    "execution": {
     "iopub.execute_input": "2023-07-26T09:33:17.193289Z",
     "iopub.status.busy": "2023-07-26T09:33:17.192741Z",
     "iopub.status.idle": "2023-07-26T09:33:19.821775Z",
     "shell.execute_reply": "2023-07-26T09:33:19.819726Z",
     "shell.execute_reply.started": "2023-07-26T09:33:17.193262Z"
    }
   },
   "outputs": [],
   "source": [
    "\n",
    "import os \n",
    "import os.path as osp\n",
    "\n",
    "import pandas as pd\n",
    "\n",
    "import sys"
   ]
  },
  {
   "cell_type": "code",
   "execution_count": 3,
   "id": "36b0e376-334c-434f-b2e1-c0aba960f20f",
   "metadata": {
    "execution": {
     "iopub.execute_input": "2023-07-26T09:33:48.424803Z",
     "iopub.status.busy": "2023-07-26T09:33:48.424070Z",
     "iopub.status.idle": "2023-07-26T09:33:48.434856Z",
     "shell.execute_reply": "2023-07-26T09:33:48.431599Z",
     "shell.execute_reply.started": "2023-07-26T09:33:48.424737Z"
    }
   },
   "outputs": [],
   "source": [
    "# import scripts\n",
    "sys.path.append(\"../src/\")"
   ]
  },
  {
   "cell_type": "code",
   "execution_count": 6,
   "id": "55c38b2c-3cd7-40d3-840f-ee069e7a9c6c",
   "metadata": {
    "execution": {
     "iopub.execute_input": "2023-07-26T09:35:54.285132Z",
     "iopub.status.busy": "2023-07-26T09:35:54.284797Z",
     "iopub.status.idle": "2023-07-26T09:35:54.305365Z",
     "shell.execute_reply": "2023-07-26T09:35:54.304684Z",
     "shell.execute_reply.started": "2023-07-26T09:35:54.285106Z"
    },
    "tags": []
   },
   "outputs": [],
   "source": [
    "from config import Config"
   ]
  },
  {
   "cell_type": "code",
   "execution_count": 10,
   "id": "94699e32-0013-469b-a6d8-8dd5c2592e09",
   "metadata": {
    "execution": {
     "iopub.execute_input": "2023-07-26T09:37:07.719100Z",
     "iopub.status.busy": "2023-07-26T09:37:07.718667Z",
     "iopub.status.idle": "2023-07-26T09:37:07.784411Z",
     "shell.execute_reply": "2023-07-26T09:37:07.783710Z",
     "shell.execute_reply.started": "2023-07-26T09:37:07.719062Z"
    },
    "tags": []
   },
   "outputs": [
    {
     "data": {
      "text/plain": [
       "['.ipynb_checkpoints', 'v1', 'v2']"
      ]
     },
     "execution_count": 10,
     "metadata": {},
     "output_type": "execute_result"
    }
   ],
   "source": [
    "os.listdir(Config.data_dir)"
   ]
  },
  {
   "cell_type": "code",
   "execution_count": null,
   "id": "32c4d632-5262-43b7-a5bb-7a938e8e5273",
   "metadata": {},
   "outputs": [],
   "source": []
  },
  {
   "cell_type": "code",
   "execution_count": null,
   "id": "d636081d-824d-4307-a599-d8aeb3b35390",
   "metadata": {},
   "outputs": [],
   "source": []
  },
  {
   "cell_type": "code",
   "execution_count": null,
   "id": "22c1ebff-762c-4a6c-95aa-4877b1408185",
   "metadata": {},
   "outputs": [],
   "source": []
  },
  {
   "cell_type": "code",
   "execution_count": null,
   "id": "dfdab238-d102-4c5b-91f6-fc0d3f1b199d",
   "metadata": {},
   "outputs": [],
   "source": []
  },
  {
   "cell_type": "code",
   "execution_count": null,
   "id": "a9fc57c0-fcb2-473b-99df-00fb3fef6278",
   "metadata": {},
   "outputs": [],
   "source": []
  },
  {
   "cell_type": "code",
   "execution_count": null,
   "id": "44368450-857d-4bdc-a5d2-1c425e6271cd",
   "metadata": {},
   "outputs": [],
   "source": []
  },
  {
   "cell_type": "code",
   "execution_count": null,
   "id": "a208c899-30ca-4b2e-b421-c451c46ebe02",
   "metadata": {},
   "outputs": [],
   "source": []
  },
  {
   "cell_type": "code",
   "execution_count": null,
   "id": "aa021320-07d2-4bf0-9132-ae2eaf2ea1ad",
   "metadata": {},
   "outputs": [],
   "source": []
  },
  {
   "cell_type": "code",
   "execution_count": null,
   "id": "7fc29177-fd2f-420b-b80e-a723b6533172",
   "metadata": {},
   "outputs": [],
   "source": []
  },
  {
   "cell_type": "code",
   "execution_count": null,
   "id": "7d06ab9e-c282-4d02-ad52-860d0f46f8df",
   "metadata": {},
   "outputs": [],
   "source": []
  },
  {
   "cell_type": "code",
   "execution_count": null,
   "id": "d3b462d5-58cb-4282-a2ad-4f91e1719b8a",
   "metadata": {},
   "outputs": [],
   "source": []
  },
  {
   "cell_type": "code",
   "execution_count": null,
   "id": "2de267e8-94ad-42ee-92d9-e7cd5dc1b482",
   "metadata": {},
   "outputs": [],
   "source": []
  },
  {
   "cell_type": "code",
   "execution_count": null,
   "id": "c31801e7-0392-4c55-8108-028d8cf590fc",
   "metadata": {},
   "outputs": [],
   "source": []
  },
  {
   "cell_type": "code",
   "execution_count": null,
   "id": "fc94792b-1358-4585-a967-5849ae65acc0",
   "metadata": {},
   "outputs": [],
   "source": []
  },
  {
   "cell_type": "code",
   "execution_count": null,
   "id": "4edae89f-1339-4b0e-9586-33dbe2824502",
   "metadata": {},
   "outputs": [],
   "source": []
  },
  {
   "cell_type": "code",
   "execution_count": null,
   "id": "cef6da03-6476-4797-8dc6-e76a72088daf",
   "metadata": {},
   "outputs": [],
   "source": []
  }
 ],
 "metadata": {
  "kernelspec": {
   "display_name": "JEPSAM",
   "language": "python",
   "name": "jepsam"
  },
  "language_info": {
   "codemirror_mode": {
    "name": "ipython",
    "version": 3
   },
   "file_extension": ".py",
   "mimetype": "text/x-python",
   "name": "python",
   "nbconvert_exporter": "python",
   "pygments_lexer": "ipython3",
   "version": "3.8.16"
  }
 },
 "nbformat": 4,
 "nbformat_minor": 5
}
