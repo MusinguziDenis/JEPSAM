{
 "cells": [
  {
   "cell_type": "code",
   "execution_count": 1,
   "id": "f134472e-506f-4c96-8586-0c4f6257fe25",
   "metadata": {
    "execution": {
     "iopub.execute_input": "2023-06-21T13:06:30.332488Z",
     "iopub.status.busy": "2023-06-21T13:06:30.332192Z",
     "iopub.status.idle": "2023-06-21T13:06:32.220640Z",
     "shell.execute_reply": "2023-06-21T13:06:32.219997Z",
     "shell.execute_reply.started": "2023-06-21T13:06:30.332461Z"
    },
    "tags": []
   },
   "outputs": [],
   "source": [
    "import numpy as np\n",
    "import os\n",
    "import pandas as pd\n",
    "from tqdm import tqdm"
   ]
  },
  {
   "cell_type": "markdown",
   "id": "df2932ba-43f7-425c-9896-59add91a3e93",
   "metadata": {
    "jp-MarkdownHeadingCollapsed": true,
    "tags": []
   },
   "source": [
    "## Loading files"
   ]
  },
  {
   "cell_type": "code",
   "execution_count": 2,
   "id": "4e67e314-3879-4a60-be30-68fb0a378ed5",
   "metadata": {
    "execution": {
     "iopub.execute_input": "2023-06-11T10:49:22.130753Z",
     "iopub.status.busy": "2023-06-11T10:49:22.130365Z",
     "iopub.status.idle": "2023-06-11T10:49:22.318161Z",
     "shell.execute_reply": "2023-06-11T10:49:22.315743Z",
     "shell.execute_reply.started": "2023-06-11T10:49:22.130727Z"
    },
    "tags": []
   },
   "outputs": [
    {
     "data": {
      "text/html": [
       "<div>\n",
       "<style scoped>\n",
       "    .dataframe tbody tr th:only-of-type {\n",
       "        vertical-align: middle;\n",
       "    }\n",
       "\n",
       "    .dataframe tbody tr th {\n",
       "        vertical-align: top;\n",
       "    }\n",
       "\n",
       "    .dataframe thead th {\n",
       "        text-align: right;\n",
       "    }\n",
       "</style>\n",
       "<table border=\"1\" class=\"dataframe\">\n",
       "  <thead>\n",
       "    <tr style=\"text-align: right;\">\n",
       "      <th></th>\n",
       "      <th>sample_ID</th>\n",
       "      <th>in_state</th>\n",
       "      <th>goal_state</th>\n",
       "      <th>validator</th>\n",
       "      <th>action_description</th>\n",
       "    </tr>\n",
       "  </thead>\n",
       "  <tbody>\n",
       "    <tr>\n",
       "      <th>0</th>\n",
       "      <td>1005</td>\n",
       "      <td>0</td>\n",
       "      <td>9</td>\n",
       "      <td>amihretu</td>\n",
       "      <td>put the :BOTTLE to the left of :BOTTLE</td>\n",
       "    </tr>\n",
       "    <tr>\n",
       "      <th>1</th>\n",
       "      <td>1011</td>\n",
       "      <td>0</td>\n",
       "      <td>9</td>\n",
       "      <td>amihretu</td>\n",
       "      <td>move the :BOTTLE left</td>\n",
       "    </tr>\n",
       "    <tr>\n",
       "      <th>2</th>\n",
       "      <td>1012</td>\n",
       "      <td>0</td>\n",
       "      <td>9</td>\n",
       "      <td>amihretu</td>\n",
       "      <td>put the :BOTTLE to the right of :MUG</td>\n",
       "    </tr>\n",
       "    <tr>\n",
       "      <th>3</th>\n",
       "      <td>1013</td>\n",
       "      <td>0</td>\n",
       "      <td>9</td>\n",
       "      <td>amihretu</td>\n",
       "      <td>shift the :CUP backwards</td>\n",
       "    </tr>\n",
       "    <tr>\n",
       "      <th>4</th>\n",
       "      <td>1015</td>\n",
       "      <td>0</td>\n",
       "      <td>9</td>\n",
       "      <td>amihretu</td>\n",
       "      <td>shift the :BOTTLE forwards</td>\n",
       "    </tr>\n",
       "  </tbody>\n",
       "</table>\n",
       "</div>"
      ],
      "text/plain": [
       "   sample_ID  in_state  goal_state validator  \\\n",
       "0       1005         0           9  amihretu   \n",
       "1       1011         0           9  amihretu   \n",
       "2       1012         0           9  amihretu   \n",
       "3       1013         0           9  amihretu   \n",
       "4       1015         0           9  amihretu   \n",
       "\n",
       "                       action_description  \n",
       "0  put the :BOTTLE to the left of :BOTTLE  \n",
       "1                   move the :BOTTLE left  \n",
       "2    put the :BOTTLE to the right of :MUG  \n",
       "3                shift the :CUP backwards  \n",
       "4              shift the :BOTTLE forwards  "
      ]
     },
     "execution_count": 2,
     "metadata": {},
     "output_type": "execute_result"
    }
   ],
   "source": [
    "df = pd.read_csv(os.path.join(\"../dataset/train.csv\"))\n",
    "\n",
    "df.head()"
   ]
  },
  {
   "cell_type": "code",
   "execution_count": 3,
   "id": "d2dbb791-18dd-407a-ac44-4eb6c9be1571",
   "metadata": {
    "execution": {
     "iopub.execute_input": "2023-06-11T10:49:22.790972Z",
     "iopub.status.busy": "2023-06-11T10:49:22.790105Z",
     "iopub.status.idle": "2023-06-11T10:49:22.887637Z",
     "shell.execute_reply": "2023-06-11T10:49:22.885281Z",
     "shell.execute_reply.started": "2023-06-11T10:49:22.790945Z"
    },
    "tags": []
   },
   "outputs": [
    {
     "data": {
      "text/plain": [
       "[\"0@  :BOTTLE BLUE POSE-4 :BOTTLE  #'*leftward-transformation*  :BOTTLE\\n\",\n",
       " \"1@  :BOTTLE BLUE POSE-6 :CUP BLUE POSE-1 :BOTTLE  #'*forward-transformation*  :CUP\\n\",\n",
       " \"2@  :BOTTLE GREEN POSE-7 :WEISSWURST GREEN POSE-2 :BOTTLE  #'*backward-transformation*  :WEISSWURST\\n\",\n",
       " '3@  :CUP GREEN POSE-8 :MUG BLUE POSE-3 :CUP NIL :MUG\\n',\n",
       " \"4@  :BOTTLE BLUE POSE-7 :MUG BLUE POSE-5 :BOTTLE  #'*rightward-transformation*  :MUG\\n\"]"
      ]
     },
     "execution_count": 3,
     "metadata": {},
     "output_type": "execute_result"
    }
   ],
   "source": [
    "with open(os.path.join(\"../dataset/motor.txt\"), \"r\") as f: \n",
    "    motor_cmds = f.readlines()\n",
    "    \n",
    "motor_cmds[:5]"
   ]
  },
  {
   "cell_type": "markdown",
   "id": "effc4c40-3c22-4b15-a67c-a94dc3974140",
   "metadata": {
    "jp-MarkdownHeadingCollapsed": true,
    "tags": []
   },
   "source": [
    "## Filter cmds"
   ]
  },
  {
   "cell_type": "code",
   "execution_count": 66,
   "id": "fb0d8d94-81c0-4c22-aa79-ce3deb399dd3",
   "metadata": {
    "execution": {
     "iopub.execute_input": "2023-06-11T11:12:42.514294Z",
     "iopub.status.busy": "2023-06-11T11:12:42.513726Z",
     "iopub.status.idle": "2023-06-11T11:12:42.533916Z",
     "shell.execute_reply": "2023-06-11T11:12:42.533302Z",
     "shell.execute_reply.started": "2023-06-11T11:12:42.514239Z"
    },
    "tags": []
   },
   "outputs": [
    {
     "data": {
      "text/html": [
       "<div>\n",
       "<style scoped>\n",
       "    .dataframe tbody tr th:only-of-type {\n",
       "        vertical-align: middle;\n",
       "    }\n",
       "\n",
       "    .dataframe tbody tr th {\n",
       "        vertical-align: top;\n",
       "    }\n",
       "\n",
       "    .dataframe thead th {\n",
       "        text-align: right;\n",
       "    }\n",
       "</style>\n",
       "<table border=\"1\" class=\"dataframe\">\n",
       "  <thead>\n",
       "    <tr style=\"text-align: right;\">\n",
       "      <th></th>\n",
       "      <th>sample_ID</th>\n",
       "      <th>motor_cmd</th>\n",
       "    </tr>\n",
       "  </thead>\n",
       "  <tbody>\n",
       "    <tr>\n",
       "      <th>1005</th>\n",
       "      <td>1005</td>\n",
       "      <td>:BOTTLE BLUE POSE-9 :BOTTLE RED POSE-2 :BOTTLE...</td>\n",
       "    </tr>\n",
       "    <tr>\n",
       "      <th>1011</th>\n",
       "      <td>1011</td>\n",
       "      <td>:BOTTLE BLUE POSE-3 :BOTTLE  #'*leftward-trans...</td>\n",
       "    </tr>\n",
       "    <tr>\n",
       "      <th>1012</th>\n",
       "      <td>1012</td>\n",
       "      <td>:BOTTLE BLUE POSE-7 :MUG RED POSE-3 :BOTTLE  #...</td>\n",
       "    </tr>\n",
       "    <tr>\n",
       "      <th>1013</th>\n",
       "      <td>1013</td>\n",
       "      <td>:CUP RED POSE-4 :CUP  #'*backward-transformati...</td>\n",
       "    </tr>\n",
       "    <tr>\n",
       "      <th>1015</th>\n",
       "      <td>1015</td>\n",
       "      <td>:BOTTLE GREEN POSE-3 :BOTTLE  #'*forward-trans...</td>\n",
       "    </tr>\n",
       "    <tr>\n",
       "      <th>...</th>\n",
       "      <td>...</td>\n",
       "      <td>...</td>\n",
       "    </tr>\n",
       "    <tr>\n",
       "      <th>1005</th>\n",
       "      <td>1005</td>\n",
       "      <td>:BOTTLE BLUE POSE-9 :BOTTLE RED POSE-2 :BOTTLE...</td>\n",
       "    </tr>\n",
       "    <tr>\n",
       "      <th>1011</th>\n",
       "      <td>1011</td>\n",
       "      <td>:BOTTLE BLUE POSE-3 :BOTTLE  #'*leftward-trans...</td>\n",
       "    </tr>\n",
       "    <tr>\n",
       "      <th>1012</th>\n",
       "      <td>1012</td>\n",
       "      <td>:BOTTLE BLUE POSE-7 :MUG RED POSE-3 :BOTTLE  #...</td>\n",
       "    </tr>\n",
       "    <tr>\n",
       "      <th>1013</th>\n",
       "      <td>1013</td>\n",
       "      <td>:CUP RED POSE-4 :CUP  #'*backward-transformati...</td>\n",
       "    </tr>\n",
       "    <tr>\n",
       "      <th>1015</th>\n",
       "      <td>1015</td>\n",
       "      <td>:BOTTLE GREEN POSE-3 :BOTTLE  #'*forward-trans...</td>\n",
       "    </tr>\n",
       "  </tbody>\n",
       "</table>\n",
       "<p>1984 rows × 2 columns</p>\n",
       "</div>"
      ],
      "text/plain": [
       "      sample_ID                                          motor_cmd\n",
       "1005       1005  :BOTTLE BLUE POSE-9 :BOTTLE RED POSE-2 :BOTTLE...\n",
       "1011       1011  :BOTTLE BLUE POSE-3 :BOTTLE  #'*leftward-trans...\n",
       "1012       1012  :BOTTLE BLUE POSE-7 :MUG RED POSE-3 :BOTTLE  #...\n",
       "1013       1013  :CUP RED POSE-4 :CUP  #'*backward-transformati...\n",
       "1015       1015  :BOTTLE GREEN POSE-3 :BOTTLE  #'*forward-trans...\n",
       "...         ...                                                ...\n",
       "1005       1005  :BOTTLE BLUE POSE-9 :BOTTLE RED POSE-2 :BOTTLE...\n",
       "1011       1011  :BOTTLE BLUE POSE-3 :BOTTLE  #'*leftward-trans...\n",
       "1012       1012  :BOTTLE BLUE POSE-7 :MUG RED POSE-3 :BOTTLE  #...\n",
       "1013       1013  :CUP RED POSE-4 :CUP  #'*backward-transformati...\n",
       "1015       1015  :BOTTLE GREEN POSE-3 :BOTTLE  #'*forward-trans...\n",
       "\n",
       "[1984 rows x 2 columns]"
      ]
     },
     "execution_count": 66,
     "metadata": {},
     "output_type": "execute_result"
    }
   ],
   "source": [
    "cmd_df = pd.DataFrame({\n",
    "    \"sample_ID\": [int(cmd.split(\"@\")[0]) for cmd in motor_cmds],\n",
    "    \"motor_cmd\": [cmd.split(\"@\")[1].strip() for cmd in motor_cmds]\n",
    "}).reset_index(drop=True)\n",
    "\n",
    "filtered_cmds = cmd_df.loc[df.sample_ID.tolist()]\n",
    "\n",
    "filtered_cmds"
   ]
  },
  {
   "cell_type": "code",
   "execution_count": 67,
   "id": "c8e5406b-f154-47b8-bde3-a657ab29d57d",
   "metadata": {
    "execution": {
     "iopub.execute_input": "2023-06-11T11:12:43.431949Z",
     "iopub.status.busy": "2023-06-11T11:12:43.431172Z",
     "iopub.status.idle": "2023-06-11T11:12:43.446200Z",
     "shell.execute_reply": "2023-06-11T11:12:43.443920Z",
     "shell.execute_reply.started": "2023-06-11T11:12:43.431877Z"
    },
    "tags": []
   },
   "outputs": [
    {
     "data": {
      "text/plain": [
       "((1984, 5), (1984, 2))"
      ]
     },
     "execution_count": 67,
     "metadata": {},
     "output_type": "execute_result"
    }
   ],
   "source": [
    "df.shape, filtered_cmds.shape"
   ]
  },
  {
   "cell_type": "markdown",
   "id": "73700a93-345b-4d05-a813-e108d05d75fc",
   "metadata": {
    "jp-MarkdownHeadingCollapsed": true,
    "tags": []
   },
   "source": [
    "## Map cmds with their corresponding sample index"
   ]
  },
  {
   "cell_type": "code",
   "execution_count": 68,
   "id": "9adc726e-0dbf-4cbd-867e-6f6e64409d99",
   "metadata": {
    "execution": {
     "iopub.execute_input": "2023-06-11T11:12:45.574414Z",
     "iopub.status.busy": "2023-06-11T11:12:45.573830Z",
     "iopub.status.idle": "2023-06-11T11:12:45.596530Z",
     "shell.execute_reply": "2023-06-11T11:12:45.595901Z",
     "shell.execute_reply.started": "2023-06-11T11:12:45.574364Z"
    },
    "tags": []
   },
   "outputs": [
    {
     "data": {
      "text/html": [
       "<div>\n",
       "<style scoped>\n",
       "    .dataframe tbody tr th:only-of-type {\n",
       "        vertical-align: middle;\n",
       "    }\n",
       "\n",
       "    .dataframe tbody tr th {\n",
       "        vertical-align: top;\n",
       "    }\n",
       "\n",
       "    .dataframe thead th {\n",
       "        text-align: right;\n",
       "    }\n",
       "</style>\n",
       "<table border=\"1\" class=\"dataframe\">\n",
       "  <thead>\n",
       "    <tr style=\"text-align: right;\">\n",
       "      <th></th>\n",
       "      <th>sample_ID</th>\n",
       "      <th>in_state</th>\n",
       "      <th>goal_state</th>\n",
       "      <th>validator</th>\n",
       "      <th>action_description</th>\n",
       "      <th>motor_cmd</th>\n",
       "    </tr>\n",
       "  </thead>\n",
       "  <tbody>\n",
       "    <tr>\n",
       "      <th>0</th>\n",
       "      <td>1005</td>\n",
       "      <td>0</td>\n",
       "      <td>9</td>\n",
       "      <td>amihretu</td>\n",
       "      <td>put the :BOTTLE to the left of :BOTTLE</td>\n",
       "      <td>:BOTTLE BLUE POSE-9 :BOTTLE RED POSE-2 :BOTTLE...</td>\n",
       "    </tr>\n",
       "    <tr>\n",
       "      <th>4</th>\n",
       "      <td>1011</td>\n",
       "      <td>0</td>\n",
       "      <td>9</td>\n",
       "      <td>amihretu</td>\n",
       "      <td>move the :BOTTLE left</td>\n",
       "      <td>:BOTTLE BLUE POSE-3 :BOTTLE  #'*leftward-trans...</td>\n",
       "    </tr>\n",
       "    <tr>\n",
       "      <th>8</th>\n",
       "      <td>1012</td>\n",
       "      <td>0</td>\n",
       "      <td>9</td>\n",
       "      <td>amihretu</td>\n",
       "      <td>put the :BOTTLE to the right of :MUG</td>\n",
       "      <td>:BOTTLE BLUE POSE-7 :MUG RED POSE-3 :BOTTLE  #...</td>\n",
       "    </tr>\n",
       "    <tr>\n",
       "      <th>12</th>\n",
       "      <td>1013</td>\n",
       "      <td>0</td>\n",
       "      <td>9</td>\n",
       "      <td>amihretu</td>\n",
       "      <td>shift the :CUP backwards</td>\n",
       "      <td>:CUP RED POSE-4 :CUP  #'*backward-transformati...</td>\n",
       "    </tr>\n",
       "    <tr>\n",
       "      <th>16</th>\n",
       "      <td>1015</td>\n",
       "      <td>0</td>\n",
       "      <td>9</td>\n",
       "      <td>amihretu</td>\n",
       "      <td>shift the :BOTTLE forwards</td>\n",
       "      <td>:BOTTLE GREEN POSE-3 :BOTTLE  #'*forward-trans...</td>\n",
       "    </tr>\n",
       "    <tr>\n",
       "      <th>...</th>\n",
       "      <td>...</td>\n",
       "      <td>...</td>\n",
       "      <td>...</td>\n",
       "      <td>...</td>\n",
       "      <td>...</td>\n",
       "      <td>...</td>\n",
       "    </tr>\n",
       "    <tr>\n",
       "      <th>2003</th>\n",
       "      <td>990</td>\n",
       "      <td>0</td>\n",
       "      <td>9</td>\n",
       "      <td>dmusingu</td>\n",
       "      <td>put the :CUP to the right of :BREAKFAST-CEREAL</td>\n",
       "      <td>:CUP BLUE POSE-10 :BREAKFAST-CEREAL BLUE POSE-...</td>\n",
       "    </tr>\n",
       "    <tr>\n",
       "      <th>2004</th>\n",
       "      <td>993</td>\n",
       "      <td>0</td>\n",
       "      <td>9</td>\n",
       "      <td>dmusingu</td>\n",
       "      <td>put the :CUP in front of :GLASSES</td>\n",
       "      <td>:CUP RED POSE-9 :GLASSES RED POSE-3 :CUP  #'*f...</td>\n",
       "    </tr>\n",
       "    <tr>\n",
       "      <th>2005</th>\n",
       "      <td>994</td>\n",
       "      <td>0</td>\n",
       "      <td>9</td>\n",
       "      <td>dmusingu</td>\n",
       "      <td>move the :CUP forwards</td>\n",
       "      <td>:CUP RED POSE-1 :CUP  #'*forward-transformatio...</td>\n",
       "    </tr>\n",
       "    <tr>\n",
       "      <th>2006</th>\n",
       "      <td>995</td>\n",
       "      <td>0</td>\n",
       "      <td>9</td>\n",
       "      <td>dmusingu</td>\n",
       "      <td>shift the :BOTTLE left</td>\n",
       "      <td>:BOTTLE GREEN POSE-3 :BOTTLE  #'*leftward-tran...</td>\n",
       "    </tr>\n",
       "    <tr>\n",
       "      <th>2007</th>\n",
       "      <td>999</td>\n",
       "      <td>0</td>\n",
       "      <td>9</td>\n",
       "      <td>dmusingu</td>\n",
       "      <td>put the :BOTTLE to the left of :GLOVE</td>\n",
       "      <td>:BOTTLE BLUE POSE-8 :GLOVE GREEN POSE-1 :BOTTL...</td>\n",
       "    </tr>\n",
       "  </tbody>\n",
       "</table>\n",
       "<p>1972 rows × 6 columns</p>\n",
       "</div>"
      ],
      "text/plain": [
       "      sample_ID  in_state  goal_state validator  \\\n",
       "0          1005         0           9  amihretu   \n",
       "4          1011         0           9  amihretu   \n",
       "8          1012         0           9  amihretu   \n",
       "12         1013         0           9  amihretu   \n",
       "16         1015         0           9  amihretu   \n",
       "...         ...       ...         ...       ...   \n",
       "2003        990         0           9  dmusingu   \n",
       "2004        993         0           9  dmusingu   \n",
       "2005        994         0           9  dmusingu   \n",
       "2006        995         0           9  dmusingu   \n",
       "2007        999         0           9  dmusingu   \n",
       "\n",
       "                                  action_description  \\\n",
       "0             put the :BOTTLE to the left of :BOTTLE   \n",
       "4                              move the :BOTTLE left   \n",
       "8               put the :BOTTLE to the right of :MUG   \n",
       "12                          shift the :CUP backwards   \n",
       "16                        shift the :BOTTLE forwards   \n",
       "...                                              ...   \n",
       "2003  put the :CUP to the right of :BREAKFAST-CEREAL   \n",
       "2004               put the :CUP in front of :GLASSES   \n",
       "2005                          move the :CUP forwards   \n",
       "2006                          shift the :BOTTLE left   \n",
       "2007           put the :BOTTLE to the left of :GLOVE   \n",
       "\n",
       "                                              motor_cmd  \n",
       "0     :BOTTLE BLUE POSE-9 :BOTTLE RED POSE-2 :BOTTLE...  \n",
       "4     :BOTTLE BLUE POSE-3 :BOTTLE  #'*leftward-trans...  \n",
       "8     :BOTTLE BLUE POSE-7 :MUG RED POSE-3 :BOTTLE  #...  \n",
       "12    :CUP RED POSE-4 :CUP  #'*backward-transformati...  \n",
       "16    :BOTTLE GREEN POSE-3 :BOTTLE  #'*forward-trans...  \n",
       "...                                                 ...  \n",
       "2003  :CUP BLUE POSE-10 :BREAKFAST-CEREAL BLUE POSE-...  \n",
       "2004  :CUP RED POSE-9 :GLASSES RED POSE-3 :CUP  #'*f...  \n",
       "2005  :CUP RED POSE-1 :CUP  #'*forward-transformatio...  \n",
       "2006  :BOTTLE GREEN POSE-3 :BOTTLE  #'*leftward-tran...  \n",
       "2007  :BOTTLE BLUE POSE-8 :GLOVE GREEN POSE-1 :BOTTL...  \n",
       "\n",
       "[1972 rows x 6 columns]"
      ]
     },
     "execution_count": 68,
     "metadata": {},
     "output_type": "execute_result"
    }
   ],
   "source": [
    "final_df = pd.merge(left=df, right=filtered_cmds, on=\"sample_ID\", how='outer').drop_duplicates(subset=[\"sample_ID\"])\n",
    "\n",
    "final_df"
   ]
  },
  {
   "cell_type": "markdown",
   "id": "c970ca21-d053-4a93-a0e7-2dba2e7c9934",
   "metadata": {
    "tags": []
   },
   "source": [
    "## Save updated training dataset"
   ]
  },
  {
   "cell_type": "code",
   "execution_count": 69,
   "id": "02747c1c-741a-4d21-bbe5-e34890563375",
   "metadata": {
    "execution": {
     "iopub.execute_input": "2023-06-11T11:12:46.698589Z",
     "iopub.status.busy": "2023-06-11T11:12:46.698296Z",
     "iopub.status.idle": "2023-06-11T11:12:46.711127Z",
     "shell.execute_reply": "2023-06-11T11:12:46.710579Z",
     "shell.execute_reply.started": "2023-06-11T11:12:46.698568Z"
    },
    "tags": []
   },
   "outputs": [],
   "source": [
    "final_df.to_csv(path_or_buf=os.path.join(\"../dataset/updated_train.csv\"), index=False)"
   ]
  },
  {
   "cell_type": "markdown",
   "id": "e3082bbb-968e-4d04-aa02-02b00cdaab7f",
   "metadata": {},
   "source": [
    "## Load consolidated dataset"
   ]
  },
  {
   "cell_type": "code",
   "execution_count": 8,
   "id": "a57e656f-59b0-4355-8e89-c02c5685cc3d",
   "metadata": {
    "execution": {
     "iopub.execute_input": "2023-06-21T13:10:26.157154Z",
     "iopub.status.busy": "2023-06-21T13:10:26.156903Z",
     "iopub.status.idle": "2023-06-21T13:10:26.181192Z",
     "shell.execute_reply": "2023-06-21T13:10:26.179675Z",
     "shell.execute_reply.started": "2023-06-21T13:10:26.157133Z"
    },
    "tags": []
   },
   "outputs": [
    {
     "data": {
      "text/html": [
       "<div>\n",
       "<style scoped>\n",
       "    .dataframe tbody tr th:only-of-type {\n",
       "        vertical-align: middle;\n",
       "    }\n",
       "\n",
       "    .dataframe tbody tr th {\n",
       "        vertical-align: top;\n",
       "    }\n",
       "\n",
       "    .dataframe thead th {\n",
       "        text-align: right;\n",
       "    }\n",
       "</style>\n",
       "<table border=\"1\" class=\"dataframe\">\n",
       "  <thead>\n",
       "    <tr style=\"text-align: right;\">\n",
       "      <th></th>\n",
       "      <th>sample_ID</th>\n",
       "      <th>in_state</th>\n",
       "      <th>goal_state</th>\n",
       "      <th>validator</th>\n",
       "      <th>action_description</th>\n",
       "      <th>motor_cmd</th>\n",
       "      <th>len_action_desc</th>\n",
       "      <th>len_motor_cmd</th>\n",
       "    </tr>\n",
       "  </thead>\n",
       "  <tbody>\n",
       "    <tr>\n",
       "      <th>0</th>\n",
       "      <td>1005</td>\n",
       "      <td>0</td>\n",
       "      <td>9</td>\n",
       "      <td>amihretu</td>\n",
       "      <td>put the :BOTTLE to the left of :BOTTLE</td>\n",
       "      <td>:BOTTLE BLUE POSE-9 :BOTTLE RED POSE-2 :BOTTLE...</td>\n",
       "      <td>38</td>\n",
       "      <td>84</td>\n",
       "    </tr>\n",
       "    <tr>\n",
       "      <th>1</th>\n",
       "      <td>1011</td>\n",
       "      <td>0</td>\n",
       "      <td>9</td>\n",
       "      <td>amihretu</td>\n",
       "      <td>move the :BOTTLE left</td>\n",
       "      <td>:BOTTLE BLUE POSE-3 :BOTTLE  #'*leftward-trans...</td>\n",
       "      <td>21</td>\n",
       "      <td>65</td>\n",
       "    </tr>\n",
       "    <tr>\n",
       "      <th>2</th>\n",
       "      <td>1012</td>\n",
       "      <td>0</td>\n",
       "      <td>9</td>\n",
       "      <td>amihretu</td>\n",
       "      <td>put the :BOTTLE to the right of :MUG</td>\n",
       "      <td>:BOTTLE BLUE POSE-7 :MUG RED POSE-3 :BOTTLE  #...</td>\n",
       "      <td>36</td>\n",
       "      <td>79</td>\n",
       "    </tr>\n",
       "    <tr>\n",
       "      <th>3</th>\n",
       "      <td>1013</td>\n",
       "      <td>0</td>\n",
       "      <td>9</td>\n",
       "      <td>amihretu</td>\n",
       "      <td>shift the :CUP backwards</td>\n",
       "      <td>:CUP RED POSE-4 :CUP  #'*backward-transformati...</td>\n",
       "      <td>24</td>\n",
       "      <td>55</td>\n",
       "    </tr>\n",
       "    <tr>\n",
       "      <th>4</th>\n",
       "      <td>1015</td>\n",
       "      <td>0</td>\n",
       "      <td>9</td>\n",
       "      <td>amihretu</td>\n",
       "      <td>shift the :BOTTLE forwards</td>\n",
       "      <td>:BOTTLE GREEN POSE-3 :BOTTLE  #'*forward-trans...</td>\n",
       "      <td>26</td>\n",
       "      <td>65</td>\n",
       "    </tr>\n",
       "  </tbody>\n",
       "</table>\n",
       "</div>"
      ],
      "text/plain": [
       "   sample_ID  in_state  goal_state validator  \\\n",
       "0       1005         0           9  amihretu   \n",
       "1       1011         0           9  amihretu   \n",
       "2       1012         0           9  amihretu   \n",
       "3       1013         0           9  amihretu   \n",
       "4       1015         0           9  amihretu   \n",
       "\n",
       "                       action_description  \\\n",
       "0  put the :BOTTLE to the left of :BOTTLE   \n",
       "1                   move the :BOTTLE left   \n",
       "2    put the :BOTTLE to the right of :MUG   \n",
       "3                shift the :CUP backwards   \n",
       "4              shift the :BOTTLE forwards   \n",
       "\n",
       "                                           motor_cmd  len_action_desc  \\\n",
       "0  :BOTTLE BLUE POSE-9 :BOTTLE RED POSE-2 :BOTTLE...               38   \n",
       "1  :BOTTLE BLUE POSE-3 :BOTTLE  #'*leftward-trans...               21   \n",
       "2  :BOTTLE BLUE POSE-7 :MUG RED POSE-3 :BOTTLE  #...               36   \n",
       "3  :CUP RED POSE-4 :CUP  #'*backward-transformati...               24   \n",
       "4  :BOTTLE GREEN POSE-3 :BOTTLE  #'*forward-trans...               26   \n",
       "\n",
       "   len_motor_cmd  \n",
       "0             84  \n",
       "1             65  \n",
       "2             79  \n",
       "3             55  \n",
       "4             65  "
      ]
     },
     "execution_count": 8,
     "metadata": {},
     "output_type": "execute_result"
    }
   ],
   "source": [
    "final_df = pd.read_csv(\"../../dataset/updated_train.csv\")\n",
    "# final_df[\"len_action_desc\"] = final_df[\"action_description\"].apply(lambda ad: len(ad))\n",
    "# final_df[\"len_motor_cmd\"] = final_df[\"motor_cmd\"].apply(lambda mc: len(mc))\n",
    "\n",
    "final_df.head()"
   ]
  },
  {
   "cell_type": "code",
   "execution_count": 9,
   "id": "6b9e2f29-428a-4387-ac43-823a2b2344c5",
   "metadata": {
    "execution": {
     "iopub.execute_input": "2023-06-21T13:10:29.466484Z",
     "iopub.status.busy": "2023-06-21T13:10:29.465751Z",
     "iopub.status.idle": "2023-06-21T13:10:29.510201Z",
     "shell.execute_reply": "2023-06-21T13:10:29.509337Z",
     "shell.execute_reply.started": "2023-06-21T13:10:29.466417Z"
    },
    "tags": []
   },
   "outputs": [
    {
     "data": {
      "text/html": [
       "<div>\n",
       "<style scoped>\n",
       "    .dataframe tbody tr th:only-of-type {\n",
       "        vertical-align: middle;\n",
       "    }\n",
       "\n",
       "    .dataframe tbody tr th {\n",
       "        vertical-align: top;\n",
       "    }\n",
       "\n",
       "    .dataframe thead th {\n",
       "        text-align: right;\n",
       "    }\n",
       "</style>\n",
       "<table border=\"1\" class=\"dataframe\">\n",
       "  <thead>\n",
       "    <tr style=\"text-align: right;\">\n",
       "      <th></th>\n",
       "      <th>count</th>\n",
       "      <th>mean</th>\n",
       "      <th>std</th>\n",
       "      <th>min</th>\n",
       "      <th>25%</th>\n",
       "      <th>50%</th>\n",
       "      <th>75%</th>\n",
       "      <th>max</th>\n",
       "    </tr>\n",
       "  </thead>\n",
       "  <tbody>\n",
       "    <tr>\n",
       "      <th>sample_ID</th>\n",
       "      <td>1972.0</td>\n",
       "      <td>2082.621197</td>\n",
       "      <td>1157.723272</td>\n",
       "      <td>5.0</td>\n",
       "      <td>1098.75</td>\n",
       "      <td>2128.0</td>\n",
       "      <td>3087.5</td>\n",
       "      <td>4025.0</td>\n",
       "    </tr>\n",
       "    <tr>\n",
       "      <th>in_state</th>\n",
       "      <td>1972.0</td>\n",
       "      <td>0.000000</td>\n",
       "      <td>0.000000</td>\n",
       "      <td>0.0</td>\n",
       "      <td>0.00</td>\n",
       "      <td>0.0</td>\n",
       "      <td>0.0</td>\n",
       "      <td>0.0</td>\n",
       "    </tr>\n",
       "    <tr>\n",
       "      <th>goal_state</th>\n",
       "      <td>1972.0</td>\n",
       "      <td>8.994422</td>\n",
       "      <td>0.074497</td>\n",
       "      <td>8.0</td>\n",
       "      <td>9.00</td>\n",
       "      <td>9.0</td>\n",
       "      <td>9.0</td>\n",
       "      <td>9.0</td>\n",
       "    </tr>\n",
       "    <tr>\n",
       "      <th>len_action_desc</th>\n",
       "      <td>1972.0</td>\n",
       "      <td>29.116126</td>\n",
       "      <td>7.594706</td>\n",
       "      <td>18.0</td>\n",
       "      <td>23.00</td>\n",
       "      <td>27.0</td>\n",
       "      <td>35.0</td>\n",
       "      <td>49.0</td>\n",
       "    </tr>\n",
       "    <tr>\n",
       "      <th>len_motor_cmd</th>\n",
       "      <td>1972.0</td>\n",
       "      <td>73.448276</td>\n",
       "      <td>13.019162</td>\n",
       "      <td>51.0</td>\n",
       "      <td>63.00</td>\n",
       "      <td>72.0</td>\n",
       "      <td>82.0</td>\n",
       "      <td>108.0</td>\n",
       "    </tr>\n",
       "  </tbody>\n",
       "</table>\n",
       "</div>"
      ],
      "text/plain": [
       "                  count         mean          std   min      25%     50%  \\\n",
       "sample_ID        1972.0  2082.621197  1157.723272   5.0  1098.75  2128.0   \n",
       "in_state         1972.0     0.000000     0.000000   0.0     0.00     0.0   \n",
       "goal_state       1972.0     8.994422     0.074497   8.0     9.00     9.0   \n",
       "len_action_desc  1972.0    29.116126     7.594706  18.0    23.00    27.0   \n",
       "len_motor_cmd    1972.0    73.448276    13.019162  51.0    63.00    72.0   \n",
       "\n",
       "                    75%     max  \n",
       "sample_ID        3087.5  4025.0  \n",
       "in_state            0.0     0.0  \n",
       "goal_state          9.0     9.0  \n",
       "len_action_desc    35.0    49.0  \n",
       "len_motor_cmd      82.0   108.0  "
      ]
     },
     "execution_count": 9,
     "metadata": {},
     "output_type": "execute_result"
    }
   ],
   "source": [
    "final_df.describe().transpose()"
   ]
  },
  {
   "cell_type": "code",
   "execution_count": 7,
   "id": "29f9c669-1aee-43e4-bb3c-20642916d75c",
   "metadata": {
    "execution": {
     "iopub.execute_input": "2023-06-21T13:10:15.322917Z",
     "iopub.status.busy": "2023-06-21T13:10:15.322496Z",
     "iopub.status.idle": "2023-06-21T13:10:15.382714Z",
     "shell.execute_reply": "2023-06-21T13:10:15.381863Z",
     "shell.execute_reply.started": "2023-06-21T13:10:15.322879Z"
    },
    "tags": []
   },
   "outputs": [],
   "source": [
    "# final_df.to_csv(path_or_buf=os.path.join(\"../../dataset/updated_train.csv\"), index=False)"
   ]
  },
  {
   "cell_type": "markdown",
   "id": "0da95fa4-8405-4c37-a7eb-cbc917b75431",
   "metadata": {},
   "source": [
    "## Tokenization\n",
    "Adapted from: [https://huggingface.co](https://huggingface.co/learn/nlp-course/chapter6/8?fw=pt#building-a-wordpiece-tokenizer-from-scratch)"
   ]
  },
  {
   "cell_type": "code",
   "execution_count": 35,
   "id": "9e16144b-37c0-46c4-9fd0-54eb9a8ace0f",
   "metadata": {
    "execution": {
     "iopub.execute_input": "2023-06-21T13:14:44.100643Z",
     "iopub.status.busy": "2023-06-21T13:14:44.100285Z",
     "iopub.status.idle": "2023-06-21T13:14:44.104980Z",
     "shell.execute_reply": "2023-06-21T13:14:44.104214Z",
     "shell.execute_reply.started": "2023-06-21T13:14:44.100613Z"
    },
    "tags": []
   },
   "outputs": [],
   "source": [
    "# ! pip install tokenizers"
   ]
  },
  {
   "cell_type": "code",
   "execution_count": 10,
   "id": "858a36fd-984b-4c87-848a-75ee5af8b555",
   "metadata": {
    "execution": {
     "iopub.execute_input": "2023-06-21T13:10:34.862689Z",
     "iopub.status.busy": "2023-06-21T13:10:34.862149Z",
     "iopub.status.idle": "2023-06-21T13:10:35.451767Z",
     "shell.execute_reply": "2023-06-21T13:10:35.449420Z",
     "shell.execute_reply.started": "2023-06-21T13:10:34.862640Z"
    },
    "tags": []
   },
   "outputs": [],
   "source": [
    "from tokenizers import (\n",
    "    decoders,\n",
    "    models,\n",
    "    normalizers,\n",
    "    pre_tokenizers,\n",
    "    processors,\n",
    "    trainers,\n",
    "    Tokenizer,\n",
    ")\n"
   ]
  },
  {
   "cell_type": "code",
   "execution_count": 11,
   "id": "3b42df47-6c17-444a-a298-242c6cf67893",
   "metadata": {
    "execution": {
     "iopub.execute_input": "2023-06-21T13:10:38.329242Z",
     "iopub.status.busy": "2023-06-21T13:10:38.327423Z",
     "iopub.status.idle": "2023-06-21T13:10:38.644426Z",
     "shell.execute_reply": "2023-06-21T13:10:38.642156Z",
     "shell.execute_reply.started": "2023-06-21T13:10:38.329155Z"
    },
    "tags": []
   },
   "outputs": [
    {
     "data": {
      "text/plain": [
       "<tokenizers.Tokenizer at 0x55fa2e79d810>"
      ]
     },
     "execution_count": 11,
     "metadata": {},
     "output_type": "execute_result"
    }
   ],
   "source": [
    "tokenizer = Tokenizer(models.WordPiece(unk_token=\"[UNK]\"))\n",
    "tokenizer.normalizer = normalizers.Sequence([\n",
    "    normalizers.NFD(), \n",
    "    # normalizers.Lowercase(), \n",
    "    normalizers.StripAccents()\n",
    "])\n",
    "tokenizer"
   ]
  },
  {
   "cell_type": "code",
   "execution_count": 12,
   "id": "0552f1f6-f0ef-487b-804f-af1d0b6b4f0c",
   "metadata": {
    "execution": {
     "iopub.execute_input": "2023-06-21T13:10:41.710772Z",
     "iopub.status.busy": "2023-06-21T13:10:41.710204Z",
     "iopub.status.idle": "2023-06-21T13:10:41.738352Z",
     "shell.execute_reply": "2023-06-21T13:10:41.737767Z",
     "shell.execute_reply.started": "2023-06-21T13:10:41.710720Z"
    },
    "tags": []
   },
   "outputs": [
    {
     "data": {
      "text/plain": [
       "'move the :BOWL left'"
      ]
     },
     "execution_count": 12,
     "metadata": {},
     "output_type": "execute_result"
    }
   ],
   "source": [
    "tokenizer.normalizer.normalize_str(\"move the :BOWL left\")"
   ]
  },
  {
   "cell_type": "code",
   "execution_count": 13,
   "id": "a4f33d59-6652-453b-acdc-9fe7e6e7f447",
   "metadata": {
    "execution": {
     "iopub.execute_input": "2023-06-21T13:10:42.831725Z",
     "iopub.status.busy": "2023-06-21T13:10:42.830254Z",
     "iopub.status.idle": "2023-06-21T13:10:42.841032Z",
     "shell.execute_reply": "2023-06-21T13:10:42.838843Z",
     "shell.execute_reply.started": "2023-06-21T13:10:42.831648Z"
    },
    "tags": []
   },
   "outputs": [],
   "source": [
    "tokenizer.pre_tokenizer = pre_tokenizers.WhitespaceSplit()"
   ]
  },
  {
   "cell_type": "code",
   "execution_count": 14,
   "id": "5c69fcaa-a6d4-4325-ba1b-21f2e37fb723",
   "metadata": {
    "execution": {
     "iopub.execute_input": "2023-06-21T13:10:44.389406Z",
     "iopub.status.busy": "2023-06-21T13:10:44.388587Z",
     "iopub.status.idle": "2023-06-21T13:10:44.405907Z",
     "shell.execute_reply": "2023-06-21T13:10:44.403309Z",
     "shell.execute_reply.started": "2023-06-21T13:10:44.389329Z"
    },
    "tags": []
   },
   "outputs": [
    {
     "data": {
      "text/plain": [
       "[('move', (0, 4)), ('the', (5, 8)), (':SPOON', (9, 15)), ('forward', (16, 23))]"
      ]
     },
     "execution_count": 14,
     "metadata": {},
     "output_type": "execute_result"
    }
   ],
   "source": [
    "tokenizer.pre_tokenizer.pre_tokenize_str(\"move the :SPOON forward\")\n"
   ]
  },
  {
   "cell_type": "markdown",
   "id": "46502970-dd29-4f01-afd8-f6af31f6b8de",
   "metadata": {},
   "source": [
    "### Create corpus"
   ]
  },
  {
   "cell_type": "code",
   "execution_count": 84,
   "id": "58dc465b-8fcb-409a-9cf3-2713486525b3",
   "metadata": {
    "execution": {
     "iopub.execute_input": "2023-06-11T11:50:29.397499Z",
     "iopub.status.busy": "2023-06-11T11:50:29.397152Z",
     "iopub.status.idle": "2023-06-11T11:50:29.792312Z",
     "shell.execute_reply": "2023-06-11T11:50:29.791418Z",
     "shell.execute_reply.started": "2023-06-11T11:50:29.397467Z"
    }
   },
   "outputs": [
    {
     "name": "stderr",
     "output_type": "stream",
     "text": [
      "100%|███████████████████████████████████████████████████████████████████████████████████████████████████████| 1972/1972 [00:00<00:00, 5244.28it/s]\n"
     ]
    }
   ],
   "source": [
    "# with open(\"../dataset/jeps_corpus.txt\", \"w\", encoding=\"utf-8\") as f:\n",
    "#     for i in tqdm(range(final_df.shape[0])):\n",
    "#         ad = final_df.iloc[i].action_description\n",
    "#         cmd = final_df.iloc[i].motor_cmd\n",
    "#         f.write(ad+ \"\\n\")    \n",
    "#         f.write(cmd+ \"\\n\")    "
   ]
  },
  {
   "cell_type": "code",
   "execution_count": 46,
   "id": "2ea0e1ae-6993-480a-b47f-45e3661640e5",
   "metadata": {
    "execution": {
     "iopub.execute_input": "2023-06-21T13:15:18.882439Z",
     "iopub.status.busy": "2023-06-21T13:15:18.881887Z",
     "iopub.status.idle": "2023-06-21T13:15:18.888502Z",
     "shell.execute_reply": "2023-06-21T13:15:18.887398Z",
     "shell.execute_reply.started": "2023-06-21T13:15:18.882389Z"
    },
    "tags": []
   },
   "outputs": [],
   "source": [
    "special_tokens = [\"[UNK]\", \"[PAD]\", \"[CLS]\", \"[SEP]\", \"[MASK]\"]\n",
    "\n",
    "trainer = trainers.WordPieceTrainer(\n",
    "    vocab_size=300, \n",
    "    special_tokens=special_tokens\n",
    ")"
   ]
  },
  {
   "cell_type": "code",
   "execution_count": 47,
   "id": "9c4d3985-5c2d-4600-89d6-40d4ccd68814",
   "metadata": {
    "execution": {
     "iopub.execute_input": "2023-06-21T13:15:19.351664Z",
     "iopub.status.busy": "2023-06-21T13:15:19.350860Z",
     "iopub.status.idle": "2023-06-21T13:15:19.389927Z",
     "shell.execute_reply": "2023-06-21T13:15:19.389081Z",
     "shell.execute_reply.started": "2023-06-21T13:15:19.351594Z"
    },
    "tags": []
   },
   "outputs": [
    {
     "name": "stdout",
     "output_type": "stream",
     "text": [
      "\n",
      "\n",
      "\n"
     ]
    }
   ],
   "source": [
    "tokenizer.train(files=[\"../../dataset/jeps_corpus.txt\"], trainer=trainer)"
   ]
  },
  {
   "cell_type": "markdown",
   "id": "40232ae4-79de-4e9c-8c2a-9b8c1ac9aadc",
   "metadata": {},
   "source": [
    "#### Test tokenizer"
   ]
  },
  {
   "cell_type": "markdown",
   "id": "caea5dd8-d14a-43f3-b46a-d6d4823bf942",
   "metadata": {},
   "source": [
    "##### Encoding"
   ]
  },
  {
   "cell_type": "code",
   "execution_count": 48,
   "id": "c6a82054-d422-4b9d-bb5c-9b326b0ff2d9",
   "metadata": {
    "execution": {
     "iopub.execute_input": "2023-06-21T13:15:20.588752Z",
     "iopub.status.busy": "2023-06-21T13:15:20.587961Z",
     "iopub.status.idle": "2023-06-21T13:15:20.601375Z",
     "shell.execute_reply": "2023-06-21T13:15:20.599128Z",
     "shell.execute_reply.started": "2023-06-21T13:15:20.588676Z"
    },
    "tags": []
   },
   "outputs": [
    {
     "name": "stdout",
     "output_type": "stream",
     "text": [
      "['[CLS]', ':CUP', 'RED', 'POSE-8', ':MONDAMIN', 'BLUE', 'POSE-2', ':CUP', \"#'*forward-transformation*\", ':MONDAMIN', '[SEP]']\n"
     ]
    }
   ],
   "source": [
    "encoding = tokenizer.encode(\":CUP RED POSE-8 :MONDAMIN BLUE POSE-2 :CUP  #'*forward-transformation*  :MONDAMIN\")\n",
    "print(encoding.tokens)"
   ]
  },
  {
   "cell_type": "code",
   "execution_count": 49,
   "id": "45a87e1c-9b8a-4287-9316-b44cac4d3ea0",
   "metadata": {
    "execution": {
     "iopub.execute_input": "2023-06-21T13:15:27.218976Z",
     "iopub.status.busy": "2023-06-21T13:15:27.218213Z",
     "iopub.status.idle": "2023-06-21T13:15:27.230747Z",
     "shell.execute_reply": "2023-06-21T13:15:27.228504Z",
     "shell.execute_reply.started": "2023-06-21T13:15:27.218906Z"
    },
    "tags": []
   },
   "outputs": [
    {
     "name": "stdout",
     "output_type": "stream",
     "text": [
      "2 3\n"
     ]
    }
   ],
   "source": [
    "cls_token_id = tokenizer.token_to_id(\"[CLS]\")\n",
    "sep_token_id = tokenizer.token_to_id(\"[SEP]\")\n",
    "print(cls_token_id, sep_token_id)"
   ]
  },
  {
   "cell_type": "code",
   "execution_count": 50,
   "id": "b837df7f-452c-419d-bd81-ba3752a1999b",
   "metadata": {
    "execution": {
     "iopub.execute_input": "2023-06-21T13:15:27.825711Z",
     "iopub.status.busy": "2023-06-21T13:15:27.824917Z",
     "iopub.status.idle": "2023-06-21T13:15:27.836664Z",
     "shell.execute_reply": "2023-06-21T13:15:27.834353Z",
     "shell.execute_reply.started": "2023-06-21T13:15:27.825638Z"
    },
    "tags": []
   },
   "outputs": [],
   "source": [
    "tokenizer.post_processor = processors.TemplateProcessing(\n",
    "    single=f\"[CLS]:0 $A:0 [SEP]:0\",\n",
    "    pair=f\"[CLS]:0 $A:0 [SEP]:0 $B:1 [SEP]:1\",\n",
    "    special_tokens=[(\"[CLS]\", cls_token_id), (\"[SEP]\", sep_token_id)],\n",
    ")"
   ]
  },
  {
   "cell_type": "code",
   "execution_count": 51,
   "id": "7ead9a4c-7786-4264-a4fe-172cc0f15061",
   "metadata": {
    "execution": {
     "iopub.execute_input": "2023-06-21T13:15:28.048167Z",
     "iopub.status.busy": "2023-06-21T13:15:28.047640Z",
     "iopub.status.idle": "2023-06-21T13:15:28.053157Z",
     "shell.execute_reply": "2023-06-21T13:15:28.052463Z",
     "shell.execute_reply.started": "2023-06-21T13:15:28.048120Z"
    },
    "tags": []
   },
   "outputs": [
    {
     "name": "stdout",
     "output_type": "stream",
     "text": [
      "['[CLS]', 'put', 'the', ':CUP', 'to', 'the', 'left', 'of', ':GLOVE', '[SEP]']\n",
      "[0, 0, 0, 0, 0, 0, 0, 0, 0, 0]\n"
     ]
    }
   ],
   "source": [
    "encoding = tokenizer.encode(\"put the :CUP to the left of :GLOVE\")\n",
    "print(encoding.tokens)\n",
    "print(encoding.type_ids)\n"
   ]
  },
  {
   "cell_type": "markdown",
   "id": "b69acf42-4024-42a4-9a76-f56c2135931f",
   "metadata": {},
   "source": [
    "##### Decoding"
   ]
  },
  {
   "cell_type": "code",
   "execution_count": 52,
   "id": "8ec1c444-e229-4928-9aa1-fe1e098f390c",
   "metadata": {
    "execution": {
     "iopub.execute_input": "2023-06-21T13:15:30.906133Z",
     "iopub.status.busy": "2023-06-21T13:15:30.905368Z",
     "iopub.status.idle": "2023-06-21T13:15:30.916196Z",
     "shell.execute_reply": "2023-06-21T13:15:30.913406Z",
     "shell.execute_reply.started": "2023-06-21T13:15:30.906065Z"
    },
    "tags": []
   },
   "outputs": [],
   "source": [
    "tokenizer.decoder = decoders.WordPiece(prefix=\"##\")"
   ]
  },
  {
   "cell_type": "code",
   "execution_count": 53,
   "id": "06292440-64e3-4ac5-89ad-5e3edfa447d3",
   "metadata": {
    "execution": {
     "iopub.execute_input": "2023-06-21T13:15:31.251784Z",
     "iopub.status.busy": "2023-06-21T13:15:31.250948Z",
     "iopub.status.idle": "2023-06-21T13:15:31.282843Z",
     "shell.execute_reply": "2023-06-21T13:15:31.279933Z",
     "shell.execute_reply.started": "2023-06-21T13:15:31.251710Z"
    },
    "tags": []
   },
   "outputs": [
    {
     "data": {
      "text/plain": [
       "'put the :CUP to the left of :GLOVE'"
      ]
     },
     "execution_count": 53,
     "metadata": {},
     "output_type": "execute_result"
    }
   ],
   "source": [
    "tokenizer.decode(encoding.ids)\n"
   ]
  },
  {
   "cell_type": "code",
   "execution_count": null,
   "id": "c2fc9e2f-d788-4f08-82b5-44910e413f57",
   "metadata": {},
   "outputs": [],
   "source": []
  },
  {
   "cell_type": "markdown",
   "id": "5365021a-6f45-4d0d-b8a4-56d66ac100d8",
   "metadata": {},
   "source": [
    "## Save tokenizer"
   ]
  },
  {
   "cell_type": "code",
   "execution_count": 54,
   "id": "d6c1a40b-ef82-4f66-bec6-d4ba9ff42750",
   "metadata": {
    "execution": {
     "iopub.execute_input": "2023-06-21T13:15:33.055618Z",
     "iopub.status.busy": "2023-06-21T13:15:33.055320Z",
     "iopub.status.idle": "2023-06-21T13:15:33.062648Z",
     "shell.execute_reply": "2023-06-21T13:15:33.061958Z",
     "shell.execute_reply.started": "2023-06-21T13:15:33.055592Z"
    },
    "tags": []
   },
   "outputs": [],
   "source": [
    "tokenizer.save(\"../../dataset/jeps_tokenizer.json\")"
   ]
  },
  {
   "cell_type": "markdown",
   "id": "e76ef857-5443-4110-b4d1-2f3edd28f7da",
   "metadata": {},
   "source": [
    "## Load and use trained tokenizer"
   ]
  },
  {
   "cell_type": "code",
   "execution_count": 55,
   "id": "872cb27c-22af-4405-a9f8-aea64a334f14",
   "metadata": {
    "execution": {
     "iopub.execute_input": "2023-06-21T13:15:33.680431Z",
     "iopub.status.busy": "2023-06-21T13:15:33.679081Z",
     "iopub.status.idle": "2023-06-21T13:15:33.696514Z",
     "shell.execute_reply": "2023-06-21T13:15:33.693279Z",
     "shell.execute_reply.started": "2023-06-21T13:15:33.680353Z"
    },
    "tags": []
   },
   "outputs": [],
   "source": [
    "tok = Tokenizer.from_file(\"../../dataset/jeps_tokenizer.json\")"
   ]
  },
  {
   "cell_type": "code",
   "execution_count": 56,
   "id": "9eaf3781-ade4-4d23-867a-2c21d8d79432",
   "metadata": {
    "execution": {
     "iopub.execute_input": "2023-06-21T13:15:33.975733Z",
     "iopub.status.busy": "2023-06-21T13:15:33.974720Z",
     "iopub.status.idle": "2023-06-21T13:15:33.990370Z",
     "shell.execute_reply": "2023-06-21T13:15:33.988124Z",
     "shell.execute_reply.started": "2023-06-21T13:15:33.975654Z"
    },
    "tags": []
   },
   "outputs": [
    {
     "data": {
      "text/plain": [
       "<tokenizers.Tokenizer at 0x55fa336640d0>"
      ]
     },
     "execution_count": 56,
     "metadata": {},
     "output_type": "execute_result"
    }
   ],
   "source": [
    "tok"
   ]
  },
  {
   "cell_type": "code",
   "execution_count": 57,
   "id": "26c2ee7f-78e4-49e2-bc85-58e4989f2dfb",
   "metadata": {
    "execution": {
     "iopub.execute_input": "2023-06-21T13:15:34.355110Z",
     "iopub.status.busy": "2023-06-21T13:15:34.354351Z",
     "iopub.status.idle": "2023-06-21T13:15:34.376657Z",
     "shell.execute_reply": "2023-06-21T13:15:34.372851Z",
     "shell.execute_reply.started": "2023-06-21T13:15:34.355042Z"
    },
    "tags": []
   },
   "outputs": [
    {
     "name": "stdout",
     "output_type": "stream",
     "text": [
      "Encoding(num_tokens=8, attributes=[ids, type_ids, tokens, offsets, attention_mask, special_tokens_mask, overflowing])\n",
      "['[CLS]', ':BOTTLE', 'GREEN', 'POSE-3', ':BOTTLE', \"#'*forward-transformation*\", ':BOTTLE', '[SEP]']\n",
      "[2, 138, 171, 228, 138, 184, 138, 3]\n"
     ]
    }
   ],
   "source": [
    "enc = tok.encode(\n",
    "    sequence=\":BOTTLE GREEN POSE-3 :BOTTLE  #'*forward-transformation*  :BOTTLE\",)\n",
    "\n",
    "print(enc)\n",
    "print(enc.tokens)\n",
    "print(enc.ids)\n"
   ]
  },
  {
   "cell_type": "code",
   "execution_count": 58,
   "id": "b8c26324-0740-4b9f-9514-7b3430dc4752",
   "metadata": {
    "execution": {
     "iopub.execute_input": "2023-06-21T13:15:34.743111Z",
     "iopub.status.busy": "2023-06-21T13:15:34.742361Z",
     "iopub.status.idle": "2023-06-21T13:15:34.763924Z",
     "shell.execute_reply": "2023-06-21T13:15:34.761635Z",
     "shell.execute_reply.started": "2023-06-21T13:15:34.743043Z"
    },
    "tags": []
   },
   "outputs": [
    {
     "data": {
      "text/plain": [
       "\":BOTTLE GREEN POSE-3 :BOTTLE #'*forward-transformation* :BOTTLE\""
      ]
     },
     "execution_count": 58,
     "metadata": {},
     "output_type": "execute_result"
    }
   ],
   "source": [
    "tokenizer.decode(enc.ids)\n"
   ]
  },
  {
   "cell_type": "code",
   "execution_count": null,
   "id": "74b81829-fd1d-4409-bdbd-e65a61a519cf",
   "metadata": {},
   "outputs": [],
   "source": []
  },
  {
   "cell_type": "code",
   "execution_count": 59,
   "id": "5ff93d41-fb7b-467a-a6f9-1406b8eae62f",
   "metadata": {
    "execution": {
     "iopub.execute_input": "2023-06-21T13:15:35.846057Z",
     "iopub.status.busy": "2023-06-21T13:15:35.845301Z",
     "iopub.status.idle": "2023-06-21T13:15:35.854914Z",
     "shell.execute_reply": "2023-06-21T13:15:35.852987Z",
     "shell.execute_reply.started": "2023-06-21T13:15:35.845989Z"
    },
    "scrolled": true,
    "tags": []
   },
   "outputs": [],
   "source": [
    "# !pip install transformers"
   ]
  },
  {
   "cell_type": "code",
   "execution_count": 60,
   "id": "35278b20-479e-4721-894b-1254dd13c677",
   "metadata": {
    "execution": {
     "iopub.execute_input": "2023-06-21T13:15:49.440520Z",
     "iopub.status.busy": "2023-06-21T13:15:49.439716Z",
     "iopub.status.idle": "2023-06-21T13:15:49.449819Z",
     "shell.execute_reply": "2023-06-21T13:15:49.447332Z",
     "shell.execute_reply.started": "2023-06-21T13:15:49.440449Z"
    },
    "tags": []
   },
   "outputs": [],
   "source": [
    "from transformers import PreTrainedTokenizerFast"
   ]
  },
  {
   "cell_type": "code",
   "execution_count": 61,
   "id": "0e387972-69a4-4fb4-b1bd-670c00124352",
   "metadata": {
    "execution": {
     "iopub.execute_input": "2023-06-21T13:15:50.608213Z",
     "iopub.status.busy": "2023-06-21T13:15:50.607377Z",
     "iopub.status.idle": "2023-06-21T13:15:50.620442Z",
     "shell.execute_reply": "2023-06-21T13:15:50.617968Z",
     "shell.execute_reply.started": "2023-06-21T13:15:50.608140Z"
    },
    "tags": []
   },
   "outputs": [],
   "source": [
    "tt = PreTrainedTokenizerFast(\n",
    "    tokenizer_file=\"../../dataset/jeps_tokenizer.json\", # You can load from the tokenizer file, alternatively\n",
    "    unk_token=\"[UNK]\",\n",
    "    pad_token=\"[PAD]\",\n",
    "    cls_token=\"[CLS]\",\n",
    "    sep_token=\"[SEP]\",\n",
    "    mask_token=\"[MASK]\",\n",
    ")"
   ]
  },
  {
   "cell_type": "code",
   "execution_count": 62,
   "id": "308e7993-b879-4c2f-88ca-8d1cd1efd564",
   "metadata": {
    "execution": {
     "iopub.execute_input": "2023-06-21T13:15:51.005551Z",
     "iopub.status.busy": "2023-06-21T13:15:51.004800Z",
     "iopub.status.idle": "2023-06-21T13:15:51.026444Z",
     "shell.execute_reply": "2023-06-21T13:15:51.025268Z",
     "shell.execute_reply.started": "2023-06-21T13:15:51.005482Z"
    },
    "tags": []
   },
   "outputs": [],
   "source": [
    "enc = tt(\n",
    "    text=\":BOTTLE GREEN POSE-3 :BOTTLE  #'*forward-transformation*  :BOTTLE\",\n",
    "    padding=\"max_length\", \n",
    "    truncation=False, \n",
    "    max_length=128,\n",
    "    return_tensors=\"pt\"\n",
    ")\n"
   ]
  },
  {
   "cell_type": "code",
   "execution_count": 63,
   "id": "a4048f54-f6e3-4d75-9b8c-bcd88f82db06",
   "metadata": {
    "execution": {
     "iopub.execute_input": "2023-06-21T13:15:51.596461Z",
     "iopub.status.busy": "2023-06-21T13:15:51.595703Z",
     "iopub.status.idle": "2023-06-21T13:15:51.614324Z",
     "shell.execute_reply": "2023-06-21T13:15:51.613193Z",
     "shell.execute_reply.started": "2023-06-21T13:15:51.596392Z"
    },
    "tags": []
   },
   "outputs": [
    {
     "data": {
      "text/plain": [
       "{'input_ids': tensor([[  2, 138, 171, 228, 138, 184, 138,   3,   1,   1,   1,   1,   1,   1,\n",
       "           1,   1,   1,   1,   1,   1,   1,   1,   1,   1,   1,   1,   1,   1,\n",
       "           1,   1,   1,   1,   1,   1,   1,   1,   1,   1,   1,   1,   1,   1,\n",
       "           1,   1,   1,   1,   1,   1,   1,   1,   1,   1,   1,   1,   1,   1,\n",
       "           1,   1,   1,   1,   1,   1,   1,   1,   1,   1,   1,   1,   1,   1,\n",
       "           1,   1,   1,   1,   1,   1,   1,   1,   1,   1,   1,   1,   1,   1,\n",
       "           1,   1,   1,   1,   1,   1,   1,   1,   1,   1,   1,   1,   1,   1,\n",
       "           1,   1,   1,   1,   1,   1,   1,   1,   1,   1,   1,   1,   1,   1,\n",
       "           1,   1,   1,   1,   1,   1,   1,   1,   1,   1,   1,   1,   1,   1,\n",
       "           1,   1]]), 'token_type_ids': tensor([[0, 0, 0, 0, 0, 0, 0, 0, 0, 0, 0, 0, 0, 0, 0, 0, 0, 0, 0, 0, 0, 0, 0, 0,\n",
       "         0, 0, 0, 0, 0, 0, 0, 0, 0, 0, 0, 0, 0, 0, 0, 0, 0, 0, 0, 0, 0, 0, 0, 0,\n",
       "         0, 0, 0, 0, 0, 0, 0, 0, 0, 0, 0, 0, 0, 0, 0, 0, 0, 0, 0, 0, 0, 0, 0, 0,\n",
       "         0, 0, 0, 0, 0, 0, 0, 0, 0, 0, 0, 0, 0, 0, 0, 0, 0, 0, 0, 0, 0, 0, 0, 0,\n",
       "         0, 0, 0, 0, 0, 0, 0, 0, 0, 0, 0, 0, 0, 0, 0, 0, 0, 0, 0, 0, 0, 0, 0, 0,\n",
       "         0, 0, 0, 0, 0, 0, 0, 0]]), 'attention_mask': tensor([[1, 1, 1, 1, 1, 1, 1, 1, 0, 0, 0, 0, 0, 0, 0, 0, 0, 0, 0, 0, 0, 0, 0, 0,\n",
       "         0, 0, 0, 0, 0, 0, 0, 0, 0, 0, 0, 0, 0, 0, 0, 0, 0, 0, 0, 0, 0, 0, 0, 0,\n",
       "         0, 0, 0, 0, 0, 0, 0, 0, 0, 0, 0, 0, 0, 0, 0, 0, 0, 0, 0, 0, 0, 0, 0, 0,\n",
       "         0, 0, 0, 0, 0, 0, 0, 0, 0, 0, 0, 0, 0, 0, 0, 0, 0, 0, 0, 0, 0, 0, 0, 0,\n",
       "         0, 0, 0, 0, 0, 0, 0, 0, 0, 0, 0, 0, 0, 0, 0, 0, 0, 0, 0, 0, 0, 0, 0, 0,\n",
       "         0, 0, 0, 0, 0, 0, 0, 0]])}"
      ]
     },
     "execution_count": 63,
     "metadata": {},
     "output_type": "execute_result"
    }
   ],
   "source": [
    "enc"
   ]
  },
  {
   "cell_type": "code",
   "execution_count": null,
   "id": "f9a9fd72-6576-40f9-9960-d6058283c368",
   "metadata": {},
   "outputs": [],
   "source": []
  },
  {
   "cell_type": "code",
   "execution_count": null,
   "id": "195a7455-f078-45db-b6b1-3f0b39705245",
   "metadata": {},
   "outputs": [],
   "source": []
  }
 ],
 "metadata": {
  "kernelspec": {
   "display_name": "Python 3 (ipykernel)",
   "language": "python",
   "name": "python3"
  },
  "language_info": {
   "codemirror_mode": {
    "name": "ipython",
    "version": 3
   },
   "file_extension": ".py",
   "mimetype": "text/x-python",
   "name": "python",
   "nbconvert_exporter": "python",
   "pygments_lexer": "ipython3",
   "version": "3.8.16"
  }
 },
 "nbformat": 4,
 "nbformat_minor": 5
}
