{
 "cells": [
  {
   "cell_type": "code",
   "execution_count": 1,
   "id": "2d561bf6-b777-4f72-8632-d0ee7ab53273",
   "metadata": {
    "execution": {
     "iopub.execute_input": "2023-06-23T08:38:51.216285Z",
     "iopub.status.busy": "2023-06-23T08:38:51.215349Z",
     "iopub.status.idle": "2023-06-23T08:38:51.475415Z",
     "shell.execute_reply": "2023-06-23T08:38:51.473073Z",
     "shell.execute_reply.started": "2023-06-23T08:38:51.216209Z"
    },
    "tags": []
   },
   "outputs": [
    {
     "name": "stdout",
     "output_type": "stream",
     "text": [
      "Fri Jun 23 10:38:51 2023       \n",
      "+-----------------------------------------------------------------------------+\n",
      "| NVIDIA-SMI 470.161.03   Driver Version: 470.161.03   CUDA Version: 11.4     |\n",
      "|-------------------------------+----------------------+----------------------+\n",
      "| GPU  Name        Persistence-M| Bus-Id        Disp.A | Volatile Uncorr. ECC |\n",
      "| Fan  Temp  Perf  Pwr:Usage/Cap|         Memory-Usage | GPU-Util  Compute M. |\n",
      "|                               |                      |               MIG M. |\n",
      "|===============================+======================+======================|\n",
      "|   0  NVIDIA GeForce ...  Off  | 00000000:01:00.0  On |                  N/A |\n",
      "| N/A   63C    P8     9W /  N/A |    475MiB /  6069MiB |     15%      Default |\n",
      "|                               |                      |                  N/A |\n",
      "+-------------------------------+----------------------+----------------------+\n",
      "                                                                               \n",
      "+-----------------------------------------------------------------------------+\n",
      "| Processes:                                                                  |\n",
      "|  GPU   GI   CI        PID   Type   Process name                  GPU Memory |\n",
      "|        ID   ID                                                   Usage      |\n",
      "|=============================================================================|\n",
      "|    0   N/A  N/A      1435      G   /usr/lib/xorg/Xorg                 59MiB |\n",
      "|    0   N/A  N/A      5166      G   /usr/lib/xorg/Xorg                192MiB |\n",
      "|    0   N/A  N/A      5820      G   /usr/bin/gnome-shell               37MiB |\n",
      "|    0   N/A  N/A      6127      G   /opt/freedownloadmanager/fdm        1MiB |\n",
      "|    0   N/A  N/A      8929      G   ...096842808824491249,131072      129MiB |\n",
      "|    0   N/A  N/A     18326      G   ...RendererForSitePerProcess       43MiB |\n",
      "+-----------------------------------------------------------------------------+\n"
     ]
    }
   ],
   "source": [
    "!nvidia-smi"
   ]
  },
  {
   "cell_type": "code",
   "execution_count": 178,
   "id": "ed9ac595-8c04-4dd1-bb57-a847b372bcc0",
   "metadata": {
    "execution": {
     "iopub.execute_input": "2023-06-23T10:43:01.830690Z",
     "iopub.status.busy": "2023-06-23T10:43:01.829930Z",
     "iopub.status.idle": "2023-06-23T10:43:01.881606Z",
     "shell.execute_reply": "2023-06-23T10:43:01.880756Z",
     "shell.execute_reply.started": "2023-06-23T10:43:01.830617Z"
    },
    "tags": []
   },
   "outputs": [
    {
     "name": "stdout",
     "output_type": "stream",
     "text": [
      "The autoreload extension is already loaded. To reload it, use:\n",
      "  %reload_ext autoreload\n"
     ]
    }
   ],
   "source": [
    "from addict import Dict\n",
    "\n",
    "import pandas as pd\n",
    "\n",
    "import os.path as osp\n",
    "\n",
    "import torch\n",
    "import torch.nn as nn\n",
    "from torch.nn.utils.rnn import pack_padded_sequence, pad_packed_sequence\n",
    "\n",
    "from torchinfo import summary\n",
    "\n",
    "import torchvision.models as torchvision_models\n",
    "\n",
    "import sys\n",
    "\n",
    "\n",
    "import IPython\n",
    "%load_ext autoreload\n",
    "\n",
    "%autoreload 2\n",
    "\n",
    "\n",
    "sys.path.append(\"../src\")"
   ]
  },
  {
   "cell_type": "code",
   "execution_count": 97,
   "id": "1be02207-6411-467c-b8c1-7c49d94269ef",
   "metadata": {
    "execution": {
     "iopub.execute_input": "2023-06-23T09:33:47.521016Z",
     "iopub.status.busy": "2023-06-23T09:33:47.520201Z",
     "iopub.status.idle": "2023-06-23T09:33:47.592384Z",
     "shell.execute_reply": "2023-06-23T09:33:47.591169Z",
     "shell.execute_reply.started": "2023-06-23T09:33:47.520939Z"
    },
    "tags": []
   },
   "outputs": [],
   "source": [
    "import models\n",
    "from utils.parser import load_config, parse_args\n",
    "\n",
    "from dataloader import get_dataloaders"
   ]
  },
  {
   "cell_type": "code",
   "execution_count": 98,
   "id": "8530e2bd-2a8a-4a73-8060-eff13096f5eb",
   "metadata": {
    "execution": {
     "iopub.execute_input": "2023-06-23T09:33:47.739599Z",
     "iopub.status.busy": "2023-06-23T09:33:47.738757Z",
     "iopub.status.idle": "2023-06-23T09:33:47.813702Z",
     "shell.execute_reply": "2023-06-23T09:33:47.812624Z",
     "shell.execute_reply.started": "2023-06-23T09:33:47.739520Z"
    },
    "scrolled": true,
    "tags": []
   },
   "outputs": [],
   "source": [
    "cfg = load_config(config_file_path=\"../configs/aejeps_cfg.yaml\")"
   ]
  },
  {
   "cell_type": "code",
   "execution_count": 99,
   "id": "c82e46d7-9cdb-4a64-a6a3-b715f1ce2fcb",
   "metadata": {
    "execution": {
     "iopub.execute_input": "2023-06-23T09:33:48.596569Z",
     "iopub.status.busy": "2023-06-23T09:33:48.595724Z",
     "iopub.status.idle": "2023-06-23T09:33:48.642567Z",
     "shell.execute_reply": "2023-06-23T09:33:48.641928Z",
     "shell.execute_reply.started": "2023-06-23T09:33:48.596490Z"
    },
    "tags": []
   },
   "outputs": [
    {
     "data": {
      "text/plain": [
       "{'EMBEDDING_DIM': 256,\n",
       " 'HIDDEN_DIM': 256,\n",
       " 'NUM_LAYERS_ENCODER': 2,\n",
       " 'BATCH_FIRST': True,\n",
       " 'ENCODER_DROPOUT': 0.35,\n",
       " 'IS_BIDIRECTIONAL': True,\n",
       " 'NUM_LAYERS_MOTOR': 1,\n",
       " 'ACTIVATION_MOTOR': 'Gelu',\n",
       " 'MOTOR_DROPOUT': 0.2,\n",
       " 'NUM_LAYERS_LANG': 2,\n",
       " 'ACTIVATION_LANG': 'Gelu',\n",
       " 'LANG_DROPOUT': 0.2}"
      ]
     },
     "execution_count": 99,
     "metadata": {},
     "output_type": "execute_result"
    }
   ],
   "source": [
    "cfg.AEJEPS"
   ]
  },
  {
   "cell_type": "markdown",
   "id": "f1c536fa-d925-4e7b-82fb-f8a9e9f41e72",
   "metadata": {},
   "source": [
    "### Get batch of data"
   ]
  },
  {
   "cell_type": "code",
   "execution_count": 101,
   "id": "e8e03678-e1f7-495a-b391-0a2444fd4637",
   "metadata": {
    "execution": {
     "iopub.execute_input": "2023-06-23T09:34:00.239203Z",
     "iopub.status.busy": "2023-06-23T09:34:00.238343Z",
     "iopub.status.idle": "2023-06-23T09:34:00.290937Z",
     "shell.execute_reply": "2023-06-23T09:34:00.290335Z",
     "shell.execute_reply.started": "2023-06-23T09:34:00.239125Z"
    }
   },
   "outputs": [
    {
     "data": {
      "text/plain": [
       "'../../dataset/'"
      ]
     },
     "execution_count": 101,
     "metadata": {},
     "output_type": "execute_result"
    }
   ],
   "source": [
    "cfg.DATASET.PATH"
   ]
  },
  {
   "cell_type": "code",
   "execution_count": 102,
   "id": "5c442393-c348-4a85-b7c7-48156ca9a766",
   "metadata": {
    "execution": {
     "iopub.execute_input": "2023-06-23T09:34:07.821697Z",
     "iopub.status.busy": "2023-06-23T09:34:07.821396Z",
     "iopub.status.idle": "2023-06-23T09:34:07.865226Z",
     "shell.execute_reply": "2023-06-23T09:34:07.864581Z",
     "shell.execute_reply.started": "2023-06-23T09:34:07.821676Z"
    },
    "tags": []
   },
   "outputs": [
    {
     "data": {
      "text/html": [
       "<div>\n",
       "<style scoped>\n",
       "    .dataframe tbody tr th:only-of-type {\n",
       "        vertical-align: middle;\n",
       "    }\n",
       "\n",
       "    .dataframe tbody tr th {\n",
       "        vertical-align: top;\n",
       "    }\n",
       "\n",
       "    .dataframe thead th {\n",
       "        text-align: right;\n",
       "    }\n",
       "</style>\n",
       "<table border=\"1\" class=\"dataframe\">\n",
       "  <thead>\n",
       "    <tr style=\"text-align: right;\">\n",
       "      <th></th>\n",
       "      <th>sample_ID</th>\n",
       "      <th>in_state</th>\n",
       "      <th>goal_state</th>\n",
       "      <th>validator</th>\n",
       "      <th>action_description</th>\n",
       "      <th>motor_cmd</th>\n",
       "      <th>len_action_desc</th>\n",
       "      <th>len_motor_cmd</th>\n",
       "    </tr>\n",
       "  </thead>\n",
       "  <tbody>\n",
       "    <tr>\n",
       "      <th>0</th>\n",
       "      <td>1005</td>\n",
       "      <td>0</td>\n",
       "      <td>9</td>\n",
       "      <td>amihretu</td>\n",
       "      <td>put the :BOTTLE to the left of :BOTTLE</td>\n",
       "      <td>:BOTTLE BLUE POSE-9 :BOTTLE RED POSE-2 :BOTTLE...</td>\n",
       "      <td>38</td>\n",
       "      <td>84</td>\n",
       "    </tr>\n",
       "    <tr>\n",
       "      <th>1</th>\n",
       "      <td>1011</td>\n",
       "      <td>0</td>\n",
       "      <td>9</td>\n",
       "      <td>amihretu</td>\n",
       "      <td>move the :BOTTLE left</td>\n",
       "      <td>:BOTTLE BLUE POSE-3 :BOTTLE  #'*leftward-trans...</td>\n",
       "      <td>21</td>\n",
       "      <td>65</td>\n",
       "    </tr>\n",
       "    <tr>\n",
       "      <th>2</th>\n",
       "      <td>1012</td>\n",
       "      <td>0</td>\n",
       "      <td>9</td>\n",
       "      <td>amihretu</td>\n",
       "      <td>put the :BOTTLE to the right of :MUG</td>\n",
       "      <td>:BOTTLE BLUE POSE-7 :MUG RED POSE-3 :BOTTLE  #...</td>\n",
       "      <td>36</td>\n",
       "      <td>79</td>\n",
       "    </tr>\n",
       "    <tr>\n",
       "      <th>3</th>\n",
       "      <td>1013</td>\n",
       "      <td>0</td>\n",
       "      <td>9</td>\n",
       "      <td>amihretu</td>\n",
       "      <td>shift the :CUP backwards</td>\n",
       "      <td>:CUP RED POSE-4 :CUP  #'*backward-transformati...</td>\n",
       "      <td>24</td>\n",
       "      <td>55</td>\n",
       "    </tr>\n",
       "    <tr>\n",
       "      <th>4</th>\n",
       "      <td>1015</td>\n",
       "      <td>0</td>\n",
       "      <td>9</td>\n",
       "      <td>amihretu</td>\n",
       "      <td>shift the :BOTTLE forwards</td>\n",
       "      <td>:BOTTLE GREEN POSE-3 :BOTTLE  #'*forward-trans...</td>\n",
       "      <td>26</td>\n",
       "      <td>65</td>\n",
       "    </tr>\n",
       "  </tbody>\n",
       "</table>\n",
       "</div>"
      ],
      "text/plain": [
       "   sample_ID  in_state  ...  len_action_desc len_motor_cmd\n",
       "0       1005         0  ...               38            84\n",
       "1       1011         0  ...               21            65\n",
       "2       1012         0  ...               36            79\n",
       "3       1013         0  ...               24            55\n",
       "4       1015         0  ...               26            65\n",
       "\n",
       "[5 rows x 8 columns]"
      ]
     },
     "execution_count": 102,
     "metadata": {},
     "output_type": "execute_result"
    }
   ],
   "source": [
    "tdf = pd.read_csv(\n",
    "    osp.join(cfg.DATASET.PATH, \"updated_train.csv\")\n",
    ")\n",
    "\n",
    "tdf.head()"
   ]
  },
  {
   "cell_type": "code",
   "execution_count": 103,
   "id": "dc87452a-62ca-4e3e-bf3d-3636c4213e9a",
   "metadata": {
    "execution": {
     "iopub.execute_input": "2023-06-23T09:34:11.657345Z",
     "iopub.status.busy": "2023-06-23T09:34:11.657062Z",
     "iopub.status.idle": "2023-06-23T09:34:11.689214Z",
     "shell.execute_reply": "2023-06-23T09:34:11.688482Z",
     "shell.execute_reply.started": "2023-06-23T09:34:11.657323Z"
    },
    "tags": []
   },
   "outputs": [
    {
     "name": "stderr",
     "output_type": "stream",
     "text": [
      "INFO:root:Prepared 1463 training samples and 509 validation samples \n"
     ]
    }
   ],
   "source": [
    "train_dl, _ = get_dataloaders(\n",
    "    train_df=tdf,\n",
    "    cfg=cfg\n",
    ")\n"
   ]
  },
  {
   "cell_type": "code",
   "execution_count": 193,
   "id": "38f1ba91-7409-4338-8c69-b2eff8d2435d",
   "metadata": {
    "execution": {
     "iopub.execute_input": "2023-06-23T10:54:14.977334Z",
     "iopub.status.busy": "2023-06-23T10:54:14.976504Z",
     "iopub.status.idle": "2023-06-23T10:54:16.118401Z",
     "shell.execute_reply": "2023-06-23T10:54:16.117532Z",
     "shell.execute_reply.started": "2023-06-23T10:54:14.977256Z"
    },
    "tags": []
   },
   "outputs": [],
   "source": [
    "for data in train_dl:\n",
    "#     s_id, in_state, goal_state, ad, cmd = data['sample_id'], data[\n",
    "#         'in_state'], data['goal_state'], data['action_desc'], data[\"motor_cmd\"]\n",
    "#     print(\"In\\t\\t:\", in_state.shape)\n",
    "#     print(\"Goal\\t\\t:\", goal_state.shape)\n",
    "#     print(\"Action desc\\t:\", ad[\"ids\"].shape)\n",
    "#     print(\"Action desc (len)\\t:\", ad[\"length\"].shape)\n",
    "\n",
    "#     print(\"CMD\\t\\t:\", cmd[\"ids\"].shape)\n",
    "#     print(\"CMD(len)\\t\\t:\", cmd[\"length\"].shape)\n",
    "    pass\n",
    "    break"
   ]
  },
  {
   "cell_type": "code",
   "execution_count": 194,
   "id": "78fc13ec-5389-4329-8ba4-1aaa9dc6e737",
   "metadata": {
    "execution": {
     "iopub.execute_input": "2023-06-23T10:54:17.001271Z",
     "iopub.status.busy": "2023-06-23T10:54:17.000584Z",
     "iopub.status.idle": "2023-06-23T10:54:17.063757Z",
     "shell.execute_reply": "2023-06-23T10:54:17.063054Z",
     "shell.execute_reply.started": "2023-06-23T10:54:17.001240Z"
    },
    "scrolled": true,
    "tags": []
   },
   "outputs": [
    {
     "data": {
      "text/plain": [
       "torch.Size([4, 1, 64])"
      ]
     },
     "execution_count": 194,
     "metadata": {},
     "output_type": "execute_result"
    }
   ],
   "source": [
    "data[\"action_desc\"][\"ids\"].shape"
   ]
  },
  {
   "cell_type": "markdown",
   "id": "e2101500-0b1e-4358-9beb-55816a766de4",
   "metadata": {},
   "source": [
    "## Model refectoring"
   ]
  },
  {
   "cell_type": "markdown",
   "id": "13480e66-708a-418a-84c3-9529d9398d00",
   "metadata": {},
   "source": [
    "### Encoder"
   ]
  },
  {
   "cell_type": "markdown",
   "id": "27b847ce-3279-4fc7-9fa5-2137794772ce",
   "metadata": {
    "jp-MarkdownHeadingCollapsed": true,
    "tags": []
   },
   "source": [
    "#### CNN backbone builder"
   ]
  },
  {
   "cell_type": "code",
   "execution_count": 195,
   "id": "21746089-b99a-4b32-9cac-6b7336f1e468",
   "metadata": {
    "execution": {
     "iopub.execute_input": "2023-06-23T10:54:20.075168Z",
     "iopub.status.busy": "2023-06-23T10:54:20.074911Z",
     "iopub.status.idle": "2023-06-23T10:54:20.106513Z",
     "shell.execute_reply": "2023-06-23T10:54:20.105767Z",
     "shell.execute_reply.started": "2023-06-23T10:54:20.075146Z"
    },
    "tags": []
   },
   "outputs": [],
   "source": [
    "def get_cnn_backbone(\n",
    "    cfg:Dict, \n",
    "    backbone_name:str=\"resnet50\", \n",
    "    freeze:bool=True,\n",
    "    fc_out:int=None\n",
    "):\n",
    "    backbone = getattr(torchvision_models, backbone_name)(weights=cfg.MODEL.CNN_BACKBONES[backbone_name])\n",
    "    \n",
    "    # freeze backbone if specified\n",
    "    if freeze:\n",
    "        for param in backbone.parameters():\n",
    "            param.requires_grad = False\n",
    "    \n",
    "    if fc_out is not None:\n",
    "        # resnet-based models\n",
    "        if \"resnet\" in backbone_name.lower():\n",
    "            backbone.fc = nn.Linear(in_features=backbone.fc.in_features, out_features=fc_out)\n",
    "            \n",
    "    return backbone"
   ]
  },
  {
   "cell_type": "code",
   "execution_count": 196,
   "id": "e0d6e9c9-89e0-404f-8d7c-b01a15ce79bc",
   "metadata": {
    "execution": {
     "iopub.execute_input": "2023-06-23T10:54:20.451333Z",
     "iopub.status.busy": "2023-06-23T10:54:20.450565Z",
     "iopub.status.idle": "2023-06-23T10:54:20.493001Z",
     "shell.execute_reply": "2023-06-23T10:54:20.492020Z",
     "shell.execute_reply.started": "2023-06-23T10:54:20.451262Z"
    },
    "scrolled": true,
    "tags": []
   },
   "outputs": [],
   "source": [
    "# b = get_cnn_backbone(cfg=cfg, fc_out=512)\n",
    "# b"
   ]
  },
  {
   "cell_type": "code",
   "execution_count": null,
   "id": "3d32eadb-4f4d-49e6-8716-f45b406a9d49",
   "metadata": {
    "tags": []
   },
   "outputs": [],
   "source": []
  },
  {
   "cell_type": "code",
   "execution_count": 197,
   "id": "a8897e77-75e0-4236-8fe8-133b5553a0fc",
   "metadata": {
    "execution": {
     "iopub.execute_input": "2023-06-23T10:54:21.161672Z",
     "iopub.status.busy": "2023-06-23T10:54:21.160924Z",
     "iopub.status.idle": "2023-06-23T10:54:21.213587Z",
     "shell.execute_reply": "2023-06-23T10:54:21.210803Z",
     "shell.execute_reply.started": "2023-06-23T10:54:21.161600Z"
    },
    "tags": []
   },
   "outputs": [],
   "source": [
    "# xx = torch.randn((1, 3, 224, 224))\n",
    "\n",
    "# xx.shape"
   ]
  },
  {
   "cell_type": "code",
   "execution_count": 198,
   "id": "46cc321f-8bd9-44ff-b694-5ab30bf9181c",
   "metadata": {
    "execution": {
     "iopub.execute_input": "2023-06-23T10:54:21.404061Z",
     "iopub.status.busy": "2023-06-23T10:54:21.402585Z",
     "iopub.status.idle": "2023-06-23T10:54:21.457849Z",
     "shell.execute_reply": "2023-06-23T10:54:21.456839Z",
     "shell.execute_reply.started": "2023-06-23T10:54:21.403973Z"
    },
    "tags": []
   },
   "outputs": [],
   "source": [
    "# \n"
   ]
  },
  {
   "cell_type": "markdown",
   "id": "668289b9-8275-4e83-ab17-0790d843aa9e",
   "metadata": {
    "jp-MarkdownHeadingCollapsed": true,
    "tags": []
   },
   "source": [
    "#### JEPSAM encoder"
   ]
  },
  {
   "cell_type": "code",
   "execution_count": 199,
   "id": "15c0e95f-9b52-4d8d-ac2b-673020ebbd16",
   "metadata": {
    "execution": {
     "iopub.execute_input": "2023-06-23T10:54:27.090574Z",
     "iopub.status.busy": "2023-06-23T10:54:27.090152Z",
     "iopub.status.idle": "2023-06-23T10:54:27.125817Z",
     "shell.execute_reply": "2023-06-23T10:54:27.125233Z",
     "shell.execute_reply.started": "2023-06-23T10:54:27.090546Z"
    },
    "tags": []
   },
   "outputs": [],
   "source": [
    "class JEPSAMEncoder(nn.Module):\n",
    "    def __init__(\n",
    "        self, \n",
    "        cfg: Dict, \n",
    "        cnn_backbone_name:str=\"resnet50\", \n",
    "        cnn_fc_out:int=512\n",
    "    ):\n",
    "        super().__init__()\n",
    "        \n",
    "        self.embedding = nn.Embedding(cfg.DATASET.VOCABULARY_SIZE, cfg.AEJEPS.EMBEDDING_DIM)\n",
    "        \n",
    "        self.image_feature_extractor = get_cnn_backbone(\n",
    "            cfg=cfg,\n",
    "            backbone_name=cnn_backbone_name,\n",
    "            fc_out=cnn_fc_out\n",
    "        )\n",
    "        \n",
    "        # features mixer\n",
    "        encoder_input_dim = cfg.AEJEPS.EMBEDDING_DIM + 2 * self.image_feature_extractor.fc.in_features + cfg.DATASET.NUM_COMMANDS\n",
    "\n",
    "        self.feature_mixing = nn.LSTM(\n",
    "            input_size=cfg.AEJEPS.EMBEDDING_DIM, \n",
    "            hidden_size=cfg.AEJEPS.HIDDEN_DIM, \n",
    "            num_layers=cfg.AEJEPS.NUM_LAYERS_ENCODER,\n",
    "            dropout=cfg.AEJEPS.ENCODER_DROPOUT, \n",
    "            bidirectional=cfg.AEJEPS.IS_BIDIRECTIONAL\n",
    "        )\n",
    "        \n",
    "    \n",
    "    def forward(self, inp:dict, mode:str='train'):\n",
    "        \"\"\"\n",
    "        \n",
    "        \"\"\"\n",
    "        B, _, max_len = inp[\"action_desc\"][\"ids\"].shape\n",
    "\n",
    "        # 1. Image feature extraction\n",
    "        feats_per = self.image_feature_extractor(inp[\"in_state\"])\n",
    "        feats_per = feats_per.repeat((1, max_len)).reshape((B, max_len, -1))\n",
    "        \n",
    "        if mode ==\"train\":\n",
    "            feats_goal = self.image_feature_extractor(inp[\"goal_state\"])\n",
    "            feats_goal = feats_goal.repeat((1, max_len)).reshape((B, max_len, -1))\n",
    "        else:\n",
    "            pass\n",
    "        \n",
    "        # print(f\"feats_per: {feats_per.shape}\")\n",
    "        # print(f\"feats_goal: {feats_goal.shape}\")\n",
    "        \n",
    "        # 2. Text feature extraction\n",
    "        action_desc_emb = self.embedding(inp[\"action_desc\"][\"ids\"])#.squeeze(1)\n",
    "        \n",
    "        if mode ==\"train\":\n",
    "            motor_cmd_emb = self.embedding(inp[\"motor_cmd\"][\"ids\"])#.squeeze(1)\n",
    "            # For each batch entry determine the length of the longest of the text sequence\n",
    "            lengths_max = [max(ltext, lcmd)\n",
    "                           for ltext, lcmd in zip(inp[\"action_desc\"][\"length\"], inp[\"motor_cmd\"][\"length\"])]\n",
    "        else:\n",
    "            lengths_max = [ltext for ltext in inp[\"action_desc\"][\"length\"]]     \n",
    "        # 3. Feature Fusion\n",
    "        # Optional: add a projection layer that will \n",
    "        # print(feats_per.shape, feats_goal.shape, action_desc_emb.shape, motor_cmd_emb.shape)\n",
    "        \n",
    "        concat_feats = torch.cat((\n",
    "            feats_per.unsqueeze(1), \n",
    "            feats_goal.unsqueeze(1), \n",
    "            action_desc_emb, \n",
    "            motor_cmd_emb\n",
    "        ), dim=2).squeeze(1)\n",
    "        \n",
    "        print(f\"Fused feats: {concat_feats.shape}\")\n",
    "        \n",
    "        # 4. Feature mixing\n",
    "        packed_input = pack_padded_sequence(\n",
    "            input=concat_feats, \n",
    "            lengths=lengths_max, \n",
    "            enforce_sorted=False, \n",
    "            batch_first=True\n",
    "        )\n",
    "        \n",
    "        output, (hidden, carousel) = self.feature_mixing(packed_input)\n",
    "        \n",
    "        output, len_output = pad_packed_sequence(output, batch_first= True)\n",
    "        \n",
    "        return output, len_output, hidden, carousel"
   ]
  },
  {
   "cell_type": "markdown",
   "id": "bf2cd0af-dbd5-42cb-a296-e97ff547c0d0",
   "metadata": {},
   "source": [
    "### Encoder summary"
   ]
  },
  {
   "cell_type": "code",
   "execution_count": null,
   "id": "51cfedb8-0dfb-4ceb-a39e-3b271039247a",
   "metadata": {
    "execution": {
     "iopub.execute_input": "2023-06-23T11:02:52.801069Z",
     "iopub.status.busy": "2023-06-23T11:02:52.800788Z"
    },
    "tags": []
   },
   "outputs": [],
   "source": [
    "encoder = JEPSAMEncoder(\n",
    "    cnn_backbone_name=\"resnet18\",\n",
    "    cfg=cfg, \n",
    "    cnn_fc_out = cfg.AEJEPS.HIDDEN_DIM\n",
    ")\n",
    "\n",
    "o, lo, h, c = encoder(data)\n",
    "\n",
    "print(o.shape)\n",
    "\n",
    "# model summary\n",
    "summary(\n",
    "    model=encoder,\n",
    "    input_dict=data,\n",
    "    col_names=[\"kernel_size\", \"output_size\", \"num_params\", \"mult_adds\"],\n",
    "\n",
    ")"
   ]
  },
  {
   "cell_type": "markdown",
   "id": "f5016b85-5211-45b1-8a31-174e8bae82fc",
   "metadata": {
    "tags": []
   },
   "source": [
    "### Decoder"
   ]
  },
  {
   "cell_type": "code",
   "execution_count": null,
   "id": "4917a5c8-01f8-4a97-b70f-a7177c7c5a5e",
   "metadata": {
    "tags": []
   },
   "outputs": [],
   "source": [
    "class Decoder(nn.Module):\n",
    "    def __init__(self, embedding_dim:):\n",
    "        \n",
    "        decoder_hidden_dim = self.num_directions * hidden_dim\n",
    "        \n",
    "        # motor command decoding layer\n",
    "        self.motor_decoder = nn.LSTMCell(\n",
    "            input_size=motor_dim, \n",
    "            hidden_size=decoder_hidden_dim, \n",
    "            num_layers=cfg.AEJEPS.NUM_LAYERS_MOTOR\n",
    "        )\n",
    "        # action desc. decoding layer\n",
    "        self.lang_decoder = nn.LSTMCell(\n",
    "            input_size=embedding_dim, \n",
    "            hidden_size=decoder_hidden_dim, \n",
    "            num_layers=num_layers_lang\n",
    "        )\n",
    "        \n",
    "        # projection layers\n",
    "        self.hidden_to_conv_in = nn.Linear(decoder_hidden_dim, 1024)\n",
    "        self.lang_head = nn.Linear(\n",
    "            in_features=decoder_hidden_dim, \n",
    "            out_features=vocabulary_size # To be discussed\n",
    "        )\n",
    "        self.motor_cmd_head = nn.Linear(\n",
    "            in_features=decoder_hidden_dim, \n",
    "            out_features=vocabulary_size # To be discussed\n",
    "        )\n",
    "\n",
    "        self.hidden2img = self.__get_transposed_convs(\n",
    "            decoder_hidden_dim, \n",
    "            image_size\n",
    "        )\n",
    "    \n",
    "    def forward(self):\n",
    "        pass\n",
    "    \n",
    "    def _decode_action_description(self):\n",
    "        pass\n",
    "    \n",
    "    def _decode_image(self):\n",
    "        pass\n",
    "    \n",
    "    def _decode_motor_command(self):\n",
    "        pass\n",
    "    \n",
    "    def __get_transposed_convs(self, decoder_hidden_dim, image_size):\n",
    "        tconv1 = nn.ConvTranspose2d(1, 4, 3, 2, 3, 0)\n",
    "        tconv2 = nn.ConvTranspose2d(4, 8, 5, 2, 3, 0)\n",
    "        tconv3 = nn.ConvTranspose2d(8, 16, 7, 2, 4, 1)\n",
    "        tconv4 = nn.ConvTranspose2d(16, 3, 11, 1, 7, 0)\n",
    "\n",
    "        return nn.Sequential(tconv1, tconv2, tconv3, tconv4)\n"
   ]
  },
  {
   "cell_type": "markdown",
   "id": "d7c98918-a0fa-4899-a6c9-58c40e14cdd8",
   "metadata": {
    "tags": []
   },
   "source": [
    "### AEJEPS"
   ]
  },
  {
   "cell_type": "code",
   "execution_count": null,
   "id": "835a6e30-c0cc-49f9-99fc-3f548461c91b",
   "metadata": {},
   "outputs": [],
   "source": [
    "\n",
    "class AutoencoderJEPS(nn.Module):\n",
    "    \"\"\"\n",
    "    This class is an Autoencoder based deep learning implementation of a Joint Episdoic, Procedural, and Semantic Memory.\n",
    "\n",
    "    Parameters\n",
    "    ----------\n",
    "\n",
    "    \"\"\"\n",
    "    def __init__(self, cfg: Dict):\n",
    "        super().__init__()\n",
    "        self.encoder = JEPSAMEncoder()\n",
    "        self.decoder = JEPSAMDecoder()\n",
    "        \n",
    "    def forward(self, inp):\n",
    "        \n",
    "        enc = self.encoder(inp)\n",
    "        # reconstructed_image, decoded_action_desc, decoded_cmd = self.decoder(enc)\n",
    "        return self.decoder(enc)\n",
    "\n"
   ]
  },
  {
   "cell_type": "code",
   "execution_count": null,
   "id": "1d812319-6ca5-4bbf-858e-811df925a093",
   "metadata": {},
   "outputs": [],
   "source": []
  },
  {
   "cell_type": "code",
   "execution_count": null,
   "id": "29defbab-27f7-4374-93a8-e60d8fdca6f6",
   "metadata": {},
   "outputs": [],
   "source": []
  },
  {
   "cell_type": "code",
   "execution_count": null,
   "id": "1273fbac-744d-41e1-a244-9b5ee67b0b10",
   "metadata": {},
   "outputs": [],
   "source": []
  },
  {
   "cell_type": "code",
   "execution_count": null,
   "id": "685388a6-cf28-4bc4-99cb-922bc75726c4",
   "metadata": {},
   "outputs": [],
   "source": []
  },
  {
   "cell_type": "code",
   "execution_count": null,
   "id": "92f93092-89e9-416b-81f2-e6fa53cef1e8",
   "metadata": {},
   "outputs": [],
   "source": []
  },
  {
   "cell_type": "code",
   "execution_count": null,
   "id": "b246a59c-0ccc-4f63-8208-2d768750528d",
   "metadata": {},
   "outputs": [],
   "source": []
  }
 ],
 "metadata": {
  "kernelspec": {
   "display_name": "Python 3 (ipykernel)",
   "language": "python",
   "name": "python3"
  },
  "language_info": {
   "codemirror_mode": {
    "name": "ipython",
    "version": 3
   },
   "file_extension": ".py",
   "mimetype": "text/x-python",
   "name": "python",
   "nbconvert_exporter": "python",
   "pygments_lexer": "ipython3",
   "version": "3.8.16"
  }
 },
 "nbformat": 4,
 "nbformat_minor": 5
}
